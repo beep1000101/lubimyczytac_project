{
 "cells": [
  {
   "cell_type": "code",
   "execution_count": 1,
   "metadata": {},
   "outputs": [],
   "source": [
    "import json\n",
    "import re\n",
    "import time\n",
    "import random\n",
    "\n",
    "import pandas as pd\n",
    "import numpy as np\n",
    "from bs4 import BeautifulSoup\n",
    "import requests\n",
    "\n",
    "from utils.paths import URL_CONFIG_PATH, BOOKS_PATH\n",
    "from utils.enums import URLS, SOUP\n",
    "\n",
    "from scraping.pages import scrape_books\n",
    "from scraping.session import get_session"
   ]
  },
  {
   "cell_type": "code",
   "execution_count": 5,
   "metadata": {},
   "outputs": [],
   "source": [
    "if BOOKS_PATH.exists():\n",
    "    visited_books = set(pd.read_csv(BOOKS_PATH)['author_href'].unique())"
   ]
  },
  {
   "cell_type": "code",
   "execution_count": 6,
   "metadata": {},
   "outputs": [],
   "source": [
    "with open(URL_CONFIG_PATH) as url_config_file:\n",
    "    urls = json.load(url_config_file)"
   ]
  },
  {
   "cell_type": "code",
   "execution_count": 7,
   "metadata": {},
   "outputs": [],
   "source": [
    "session = get_session()"
   ]
  },
  {
   "cell_type": "code",
   "execution_count": 8,
   "metadata": {},
   "outputs": [],
   "source": [
    "number_pattern = re.compile(r'\\d+')\n",
    "literal_pattern = re.compile(r'\\D+')"
   ]
  },
  {
   "cell_type": "code",
   "execution_count": 6,
   "metadata": {},
   "outputs": [],
   "source": [
    "books_data_dict_list = []\n",
    "for step in range(1, 2):\n",
    "    books_urls = scrape_books(base_url=urls[URLS.BASE], page_url=urls[URLS.PAGE].format(step=step), session=session)\n",
    "    for book_url in books_urls:\n",
    "        book_html = session.get(book_url).text\n",
    "        # author name and href to author page\n",
    "        soup_book = BeautifulSoup(book_html, SOUP.HTML_PARSER)\n",
    "        authors_html = soup_book.find_all('a', class_='link-name d-inline-block')\n",
    "        authors_names = [author.text for author in authors_html]\n",
    "        authors_hrefs = [author['href'] for author in authors_html]\n",
    "        authors = {}\n",
    "        for index, (author_name, author_href) in enumerate(zip(authors_names, authors_hrefs)):\n",
    "            number = index if index > 0 else ''\n",
    "            authors[f'author{number}'] = author_name\n",
    "            authors[f'author_href{number}'] = author_href\n",
    "        pages_html = soup_book.find('span', class_='d-sm-inline-block book-pages book__pages pr-2 mr-2 pr-sm-3 mr-sm-3')\n",
    "        # pages = int(re.search(number_pattern, pages_html.text).group())\n",
    "        description_html = soup_book.find('div', class_='collapse-content')\n",
    "        description = description_html.text\n",
    "        user_stats_html = soup_book.find('div', class_='d-flex flex-wrap justify-content-around px-3')\n",
    "        user_stats = user_stats_html.text\n",
    "        user_stats = list(map(int, re.findall(number_pattern, user_stats)))\n",
    "        if len(user_stats) == 2:\n",
    "            number_of_user_opinions, number_of_user_ratings = user_stats\n",
    "            number_of_discussions = 0\n",
    "        elif len(user_stats) == 3:\n",
    "            number_of_user_opinions, number_of_user_ratings, number_of_discussions = user_stats\n",
    "        detitails_dict = dict(zip([element.text.strip().rstrip(':') for element in soup_book.find_all('dt')], [element.text.strip() for element in soup_book.find_all('dd')]))\n",
    "        on_the_shelf_dict_raw = {\n",
    "            re.search(literal_pattern, element.text).group().strip(): \"\".join(re.findall(number_pattern, element.text))\n",
    "            for element in soup_book.find_all('li', class_='list-group-item p-0')\n",
    "            }\n",
    "        on_the_shelf_dict = {\n",
    "            'number_of_people_read': on_the_shelf_dict_raw.get('Przeczytane', np.nan),\n",
    "            'number_of_people_has': on_the_shelf_dict_raw.get('Posiadam', np.nan),\n",
    "            'number_of_people_favorite': on_the_shelf_dict_raw.get('Ulubione', np.nan),\n",
    "            'number_of_people_wants_to_read': on_the_shelf_dict_raw.get('Chcę przeczytać', np.nan),\n",
    "            'number_of_people_wants_as_gift': on_the_shelf_dict_raw.get('Chcę w prezencie', np.nan),\n",
    "            'number_of_people_currently_read': on_the_shelf_dict_raw.get('Teraz czytam', np.nan)\n",
    "        }\n",
    "        tags = '&'.join([element.text.strip() for element in soup_book.find_all('a', class_='tag')])\n",
    "        ratings_dict = {\n",
    "            f'rating_{element[\"data-rating\"]}': int(\"\".join(re.findall(number_pattern, element.text.strip())))\n",
    "            for element in soup_book.find_all('a', class_='chart-valuebtn btn-link--without-bold plusCountModal')\n",
    "            }\n",
    "        books_data_dict = {\n",
    "            **authors,\n",
    "            'description': description,\n",
    "            'number_of_user_opinions': number_of_user_opinions,\n",
    "            'number_of_user_ratings': number_of_user_ratings,\n",
    "            'number_of_discussions': number_of_discussions,\n",
    "            **detitails_dict,\n",
    "            **on_the_shelf_dict,\n",
    "            'tags': tags,\n",
    "            **ratings_dict\n",
    "        }\n",
    "        books_data_dict_list.append(books_data_dict)\n",
    "        random_sleep_time = random.uniform(0.5, 1.5)\n",
    "        time.sleep(random_sleep_time)"
   ]
  },
  {
   "cell_type": "code",
   "execution_count": 7,
   "metadata": {},
   "outputs": [],
   "source": [
    "books_df = pd.DataFrame(books_data_dict_list)"
   ]
  },
  {
   "cell_type": "code",
   "execution_count": 10,
   "metadata": {},
   "outputs": [
    {
     "data": {
      "text/plain": [
       "0        https://lubimyczytac.pl/autor/3701/j-k-rowling\n",
       "1        https://lubimyczytac.pl/autor/3701/j-k-rowling\n",
       "2        https://lubimyczytac.pl/autor/3701/j-k-rowling\n",
       "3        https://lubimyczytac.pl/autor/3701/j-k-rowling\n",
       "4     https://lubimyczytac.pl/autor/14276/antoine-de...\n",
       "5        https://lubimyczytac.pl/autor/3701/j-k-rowling\n",
       "6        https://lubimyczytac.pl/autor/3701/j-k-rowling\n",
       "7        https://lubimyczytac.pl/autor/3701/j-k-rowling\n",
       "8      https://lubimyczytac.pl/autor/3216/j-r-r-tolkien\n",
       "9     https://lubimyczytac.pl/autor/10474/george-orwell\n",
       "10    https://lubimyczytac.pl/autor/22701/michail-bu...\n",
       "11    https://lubimyczytac.pl/autor/3291/andrzej-sap...\n",
       "12    https://lubimyczytac.pl/autor/24023/carlos-rui...\n",
       "13    https://lubimyczytac.pl/autor/14755/stephenie-...\n",
       "14    https://lubimyczytac.pl/autor/6087/suzanne-col...\n",
       "15    https://lubimyczytac.pl/autor/3291/andrzej-sap...\n",
       "16    https://lubimyczytac.pl/autor/19023/stieg-larsson\n",
       "17        https://lubimyczytac.pl/autor/19390/dan-brown\n",
       "18    https://lubimyczytac.pl/autor/15987/eric-emman...\n",
       "19    https://lubimyczytac.pl/autor/3291/andrzej-sap...\n",
       "20    https://lubimyczytac.pl/autor/19287/george-r-r...\n",
       "21    https://lubimyczytac.pl/autor/3291/andrzej-sap...\n",
       "22        https://lubimyczytac.pl/autor/65774/e-l-james\n",
       "23    https://lubimyczytac.pl/autor/14755/stephenie-...\n",
       "24    https://lubimyczytac.pl/autor/3291/andrzej-sap...\n",
       "25    https://lubimyczytac.pl/autor/19097/boleslaw-prus\n",
       "26    https://lubimyczytac.pl/autor/6087/suzanne-col...\n",
       "27    https://lubimyczytac.pl/autor/109087/paula-haw...\n",
       "28    https://lubimyczytac.pl/autor/10474/george-orwell\n",
       "29    https://lubimyczytac.pl/autor/6136/lucy-maud-m...\n",
       "Name: author_href, dtype: object"
      ]
     },
     "execution_count": 10,
     "metadata": {},
     "output_type": "execute_result"
    }
   ],
   "source": [
    "books_df['author_href']"
   ]
  }
 ],
 "metadata": {
  "kernelspec": {
   "display_name": "lubimyczytac",
   "language": "python",
   "name": "python3"
  },
  "language_info": {
   "codemirror_mode": {
    "name": "ipython",
    "version": 3
   },
   "file_extension": ".py",
   "mimetype": "text/x-python",
   "name": "python",
   "nbconvert_exporter": "python",
   "pygments_lexer": "ipython3",
   "version": "3.13.1"
  }
 },
 "nbformat": 4,
 "nbformat_minor": 2
}
