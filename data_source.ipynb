{
 "cells": [
  {
   "cell_type": "code",
   "execution_count": 1,
   "metadata": {},
   "outputs": [],
   "source": [
    "import json\n",
    "import re\n",
    "import time\n",
    "import random\n",
    "\n",
    "import pandas as pd\n",
    "import numpy as np\n",
    "from bs4 import BeautifulSoup\n",
    "\n",
    "from utils.paths import URL_CONFIG_PATH, BOOKS_PATH, AUTHORS_PATH\n",
    "from utils.enums import URLS, SOUP\n",
    "from utils.regex import NUMBER_PATTERN, LITERAL_PATTERN\n",
    "\n",
    "from scraping.pages import scrape_books\n",
    "from scraping.session import get_session"
   ]
  },
  {
   "cell_type": "code",
   "execution_count": 2,
   "metadata": {},
   "outputs": [],
   "source": [
    "with open(URL_CONFIG_PATH) as url_config_file:\n",
    "    urls = json.load(url_config_file)"
   ]
  },
  {
   "cell_type": "code",
   "execution_count": 3,
   "metadata": {},
   "outputs": [],
   "source": [
    "session = get_session()"
   ]
  },
  {
   "cell_type": "code",
   "execution_count": 4,
   "metadata": {},
   "outputs": [],
   "source": [
    "# utils\n",
    "def get_with_retry(session, url, retries=5):\n",
    "    for _ in range(retries):\n",
    "        try:\n",
    "            html = session.get(url).text\n",
    "            break\n",
    "        except Exception as e:\n",
    "            print(f'Error: {e}')\n",
    "            time.sleep(.5)\n",
    "    return html"
   ]
  },
  {
   "cell_type": "code",
   "execution_count": null,
   "metadata": {},
   "outputs": [
    {
     "name": "stderr",
     "output_type": "stream",
     "text": [
      "/tmp/ipykernel_108407/520854285.py:7: DtypeWarning: Columns (66,67,68,69,70,71,72,73,74,75) have mixed types. Specify dtype option on import or set low_memory=False.\n",
      "  visited_books = set(pd.read_csv(BOOKS_PATH)['url'].unique())\n"
     ]
    },
    {
     "name": "stdout",
     "output_type": "stream",
     "text": [
      "Current step: 343\r"
     ]
    }
   ],
   "source": [
    "# Initialize lists to store book and author data\n",
    "books_data_dict_list = []\n",
    "authors_data_dict_list = []\n",
    "\n",
    "# give visited_books\n",
    "if BOOKS_PATH.exists():\n",
    "    visited_books = set(pd.read_csv(BOOKS_PATH)['url'].unique())\n",
    "else:\n",
    "    visited_books = set()\n",
    "\n",
    "# give visited_authors\n",
    "if AUTHORS_PATH.exists():\n",
    "    visited_authors = set(pd.read_csv(AUTHORS_PATH)['author_url'].unique())\n",
    "else:\n",
    "    visited_authors = set()\n",
    "\n",
    "# Loop through pages to scrape book URLs\n",
    "try:\n",
    "    for step in range(1, 344):\n",
    "        books_urls = scrape_books(base_url=urls[URLS.BASE], page_url=urls[URLS.PAGE].format(step=step), session=session)\n",
    "        # books_urls = scrape_books(base_url=urls[URLS.BASE], page_url=urls['page_url_additional'].format(step=step), session=session)\n",
    "        \n",
    "        # Loop through each book URL to scrape book details\n",
    "        for book_url in books_urls:\n",
    "            # book_html = session.get(book_url).text\n",
    "            book_html = get_with_retry(session, book_url)\n",
    "            soup_book = BeautifulSoup(book_html, SOUP.HTML_PARSER)\n",
    "            \n",
    "\n",
    "            # Extract author names and hrefs\n",
    "            authors_html = soup_book.find_all('a', class_='link-name d-inline-block')\n",
    "            authors_names = [author.text for author in authors_html]\n",
    "            authors_hrefs = [author['href'] for author in authors_html]\n",
    "\n",
    "            # Scrape author\n",
    "            author_href = authors_hrefs[0]\n",
    "            if author_href not in visited_authors:\n",
    "                author_html = get_with_retry(session, author_href)\n",
    "                author_soup = BeautifulSoup(author_html, SOUP.HTML_PARSER)\n",
    "                author_author_name = author_soup.find('div', class_='author-main__header-wrapper').text\n",
    "                author_average_rating = float(author_soup.find('div', class_='author-box').find('span', class_='rating__avarage').text.replace(',', '.'))\n",
    "                readers_div = author_soup.find_all('div', class_='author-box__readers-col')\n",
    "                if readers_div is not None:\n",
    "                    author_number_of_people_read = int(readers_div[0].find('span').text.replace(' ', ''))\n",
    "                    number_of_people_wants_to_read = int(readers_div[1].find('span').text.replace(' ', ''))\n",
    "                else:\n",
    "                    author_number_of_people_read = float('nan')\n",
    "                    number_of_people_wants_to_read = float('nan')\n",
    "                author_date_of_birth_span = author_soup.find('span', class_='author-info__born')\n",
    "                if author_date_of_birth_span is not None:\n",
    "                    author_date_of_birth =  author_date_of_birth_span.text.split()[-1]\n",
    "                else:\n",
    "                    author_date_of_birth = 'Unknown'\n",
    "                author_number_of_fans = int(author_soup.find('span', class_='author-box__number').text.replace(' ', ''))\n",
    "                author_number_of_books_written = int(author_soup.find('div', class_='author-info__count').text)\n",
    "                author_awards_html = author_soup.find('div', class_='author-info__count author-info__count--awards')\n",
    "                if author_awards_html is not None:\n",
    "                    author_number_of_awards = int(author_awards_html.text)\n",
    "                else:\n",
    "                    author_number_of_awards = 0\n",
    "                author_data_dict = {\n",
    "                    'author_name': author_author_name,\n",
    "                    'author_url': author_href,\n",
    "                    'author_average_rating': author_average_rating,\n",
    "                    'author_number_of_people_read': author_number_of_people_read,\n",
    "                    'author_number_of_people_wants_to_read': number_of_people_wants_to_read,\n",
    "                    'author_date_of_birth': author_date_of_birth,\n",
    "                    'author_number_of_fans': author_number_of_fans,\n",
    "                    'author_number_of_books_written': author_number_of_books_written,\n",
    "                    'author_number_of_awards': author_number_of_awards\n",
    "                }\n",
    "                authors_data_dict_list.append(author_data_dict)\n",
    "                visited_authors.add(author_href)\n",
    "            # Scrape author end\n",
    "\n",
    "            # scrape publisher\n",
    "            ...\n",
    "            # scrape publisher end\n",
    "            if book_url in visited_books:\n",
    "                continue\n",
    "            # Create a dictionary for authors\n",
    "            authors = {}\n",
    "            for index, (author_name, author_href) in enumerate(zip(authors_names, authors_hrefs)):\n",
    "                number = index if index > 0 else ''\n",
    "                authors[f'author{number}'] = author_name\n",
    "                authors[f'author_href{number}'] = author_href\n",
    "            \n",
    "            # Extract book details\n",
    "            pages_html = soup_book.find('span', class_='d-sm-inline-block book-pages book__pages pr-2 mr-2 pr-sm-3 mr-sm-3')\n",
    "            description_html = soup_book.find('div', class_='collapse-content')\n",
    "            description = description_html.text if description_html else ''\n",
    "            \n",
    "            # Extract user statistics\n",
    "            user_stats_html = soup_book.find('div', class_='d-flex flex-wrap justify-content-around px-3')\n",
    "            if user_stats_html is None:\n",
    "                number_of_discussions = 0\n",
    "                number_of_user_opinions = 0\n",
    "                number_of_user_ratings = 0\n",
    "            else:\n",
    "                user_stats = user_stats_html.text\n",
    "                user_stats = list(map(int, re.findall(NUMBER_PATTERN, user_stats)))\n",
    "            \n",
    "                if len(user_stats) == 2:\n",
    "                    number_of_user_opinions, number_of_user_ratings = user_stats\n",
    "                    number_of_discussions = 0\n",
    "                elif len(user_stats) == 3:\n",
    "                    number_of_user_opinions, number_of_user_ratings, number_of_discussions = user_stats\n",
    "            \n",
    "            # Extract additional book details\n",
    "            details_dict = dict(zip(\n",
    "                [element.text.strip().rstrip(':') for element in soup_book.find_all('dt')],\n",
    "                [element.text.strip() for element in soup_book.find_all('dd')]\n",
    "            ))\n",
    "            \n",
    "            # Extract on-the-shelf statistics\n",
    "            on_the_shelf_dict_raw = {\n",
    "                re.search(LITERAL_PATTERN, element.text).group().strip(): \"\".join(re.findall(NUMBER_PATTERN, element.text))\n",
    "                for element in soup_book.find_all('li', class_='list-group-item p-0')\n",
    "            }\n",
    "            on_the_shelf_dict = {\n",
    "                'number_of_people_read': on_the_shelf_dict_raw.get('Przeczytane', np.nan),\n",
    "                'number_of_people_has': on_the_shelf_dict_raw.get('Posiadam', np.nan),\n",
    "                'number_of_people_favorite': on_the_shelf_dict_raw.get('Ulubione', np.nan),\n",
    "                'number_of_people_wants_to_read': on_the_shelf_dict_raw.get('Chcę przeczytać', np.nan),\n",
    "                'number_of_people_wants_as_gift': on_the_shelf_dict_raw.get('Chcę w prezencie', np.nan),\n",
    "                'number_of_people_currently_read': on_the_shelf_dict_raw.get('Teraz czytam', np.nan)\n",
    "            }\n",
    "            \n",
    "            # Extract tags\n",
    "            tags = '&'.join([element.text.strip() for element in soup_book.find_all('a', class_='tag')])\n",
    "            \n",
    "            # Extract ratings\n",
    "            ratings_dict = {\n",
    "                f'rating_{element[\"data-rating\"]}': int(\"\".join(re.findall(NUMBER_PATTERN, element.text.strip())))\n",
    "                for element in soup_book.find_all('a', class_='chart-valuebtn btn-link--without-bold plusCountModal')\n",
    "            }\n",
    "            \n",
    "            # Combine all extracted data into a single dictionary\n",
    "            books_data_dict = {\n",
    "                **authors,\n",
    "                'description': description,\n",
    "                'number_of_user_opinions': number_of_user_opinions,\n",
    "                'number_of_user_ratings': number_of_user_ratings,\n",
    "                'number_of_discussions': number_of_discussions,\n",
    "                **details_dict,\n",
    "                **on_the_shelf_dict,\n",
    "                'tags': tags,\n",
    "                **ratings_dict,\n",
    "                'url': book_url\n",
    "            }\n",
    "            \n",
    "            # Append the book data dictionary to the list\n",
    "            books_data_dict_list.append(books_data_dict)\n",
    "            \n",
    "            # Sleep for a random time between requests to avoid being blocked\n",
    "            # random_sleep_time = random.uniform(0.5, 1.5)\n",
    "            random_sleep_time = random.uniform(0.3, 0.8)\n",
    "            time.sleep(random_sleep_time)\n",
    "        # print current step of the loop and the only current step of the loop\n",
    "        print(f'Current step: {step}', end='\\r')\n",
    "except Exception as e:\n",
    "    print(f'Error: {e}')\n",
    "    # print traceback\n",
    "    import traceback\n",
    "    print('something went wrong')\n",
    "    traceback.print_exc()\n",
    "    # save data frames as tmp data frames to be merged later\n",
    "    books_df_tmp = pd.DataFrame(books_data_dict_list)\n",
    "    authors_df_tmp = pd.DataFrame(authors_data_dict_list)\n",
    "    books_df_tmp.to_csv('books_tmp1.csv', index=False)\n",
    "    authors_df_tmp.to_csv('authors_tmp1.csv', index=False)\n",
    "    print('tmp data frames saved')\n"
   ]
  },
  {
   "cell_type": "code",
   "execution_count": 8,
   "metadata": {},
   "outputs": [],
   "source": [
    "books_df = pd.DataFrame(books_data_dict_list)\n",
    "authors_df = pd.DataFrame(authors_data_dict_list)"
   ]
  },
  {
   "cell_type": "code",
   "execution_count": 11,
   "metadata": {},
   "outputs": [],
   "source": [
    "authors_df.to_csv('authors_tmp.csv', index=False)"
   ]
  },
  {
   "cell_type": "code",
   "execution_count": 12,
   "metadata": {},
   "outputs": [],
   "source": [
    "books_df.to_csv('books_tmp.csv', index=False)"
   ]
  },
  {
   "cell_type": "markdown",
   "metadata": {},
   "source": [
    "## tmp"
   ]
  },
  {
   "cell_type": "code",
   "execution_count": 16,
   "metadata": {},
   "outputs": [
    {
     "name": "stderr",
     "output_type": "stream",
     "text": [
      "/tmp/ipykernel_108407/3123159464.py:1: DtypeWarning: Columns (66,67,68,69,70,71,72,73,74,75) have mixed types. Specify dtype option on import or set low_memory=False.\n",
      "  existng_books_df = pd.read_csv(BOOKS_PATH)\n"
     ]
    }
   ],
   "source": [
    "existng_books_df = pd.read_csv(BOOKS_PATH)\n",
    "existing_authors_df = pd.read_csv(AUTHORS_PATH)"
   ]
  },
  {
   "cell_type": "code",
   "execution_count": 27,
   "metadata": {},
   "outputs": [],
   "source": [
    "merged_books_df = pd.concat([existng_books_df, books_df])"
   ]
  },
  {
   "cell_type": "code",
   "execution_count": 32,
   "metadata": {},
   "outputs": [],
   "source": [
    "merged_books_df[~merged_books_df.duplicated()].to_csv(BOOKS_PATH, index=False)"
   ]
  },
  {
   "cell_type": "code",
   "execution_count": 33,
   "metadata": {},
   "outputs": [],
   "source": [
    "merged_authors = pd.concat([existing_authors_df, authors_df])"
   ]
  },
  {
   "cell_type": "code",
   "execution_count": 37,
   "metadata": {},
   "outputs": [],
   "source": [
    "merged_authors.to_csv(AUTHORS_PATH, index=False)"
   ]
  },
  {
   "cell_type": "code",
   "execution_count": 102,
   "metadata": {},
   "outputs": [],
   "source": [
    "author_href = books_df['author_href'][0]"
   ]
  },
  {
   "cell_type": "code",
   "execution_count": 38,
   "metadata": {},
   "outputs": [
    {
     "data": {
      "text/plain": [
       "(5513, 94)"
      ]
     },
     "execution_count": 38,
     "metadata": {},
     "output_type": "execute_result"
    }
   ],
   "source": [
    "books_df.shape"
   ]
  },
  {
   "cell_type": "code",
   "execution_count": 40,
   "metadata": {},
   "outputs": [
    {
     "name": "stderr",
     "output_type": "stream",
     "text": [
      "/tmp/ipykernel_108407/734529333.py:2: DtypeWarning: Columns (76,77,78,79,80,81,82,83,84,85,86,87,88,89,90,91,92,93) have mixed types. Specify dtype option on import or set low_memory=False.\n",
      "  existing_books_df = pd.read_csv(BOOKS_PATH)\n"
     ]
    }
   ],
   "source": [
    "if BOOKS_PATH.exists():\n",
    "    existing_books_df = pd.read_csv(BOOKS_PATH)\n",
    "else:\n",
    "    existing_books_df = pd.DataFrame()\n",
    "if AUTHORS_PATH.exists():\n",
    "    existing_authors_df = pd.read_csv(AUTHORS_PATH)\n",
    "else:\n",
    "    existing_authors_df = pd.DataFrame()"
   ]
  },
  {
   "cell_type": "code",
   "execution_count": 41,
   "metadata": {},
   "outputs": [
    {
     "data": {
      "text/plain": [
       "Index(['author', 'author_href', 'description', 'number_of_user_opinions',\n",
       "       'number_of_user_ratings', 'number_of_discussions', 'Kategoria',\n",
       "       'Format', 'Cykl', 'Tytuł oryginału', 'Wydawnictwo', 'Data wydania',\n",
       "       'Data 1. wyd. pol.', 'Data 1. wydania', 'Liczba stron', 'Czas czytania',\n",
       "       'Język', 'ISBN', 'Tłumacz', 'Ekranizacje', 'number_of_people_read',\n",
       "       'number_of_people_has', 'number_of_people_favorite',\n",
       "       'number_of_people_wants_to_read', 'number_of_people_wants_as_gift',\n",
       "       'number_of_people_currently_read', 'tags', 'rating_10', 'rating_9',\n",
       "       'rating_8', 'rating_7', 'rating_6', 'rating_5', 'rating_4', 'rating_3',\n",
       "       'rating_2', 'rating_1', 'url', 'Inne', 'author1', 'author_href1',\n",
       "       'Seria', 'author2', 'author_href2', 'author3', 'author_href3',\n",
       "       'author4', 'author_href4', 'author5', 'author_href5', 'author6',\n",
       "       'author_href6', 'author7', 'author_href7', 'author8', 'author_href8',\n",
       "       'author9', 'author_href9', 'author10', 'author_href10', 'author11',\n",
       "       'author_href11', 'author12', 'author_href12', 'author13',\n",
       "       'author_href13', 'author14', 'author_href14', 'author15',\n",
       "       'author_href15', 'author16', 'author_href16', 'author17',\n",
       "       'author_href17', 'author18', 'author_href18', 'author19',\n",
       "       'author_href19', 'author20', 'author_href20', 'author21',\n",
       "       'author_href21', 'author22', 'author_href22', 'author23',\n",
       "       'author_href23', 'author24', 'author_href24', 'author25',\n",
       "       'author_href25', 'author26', 'author_href26', 'author27',\n",
       "       'author_href27'],\n",
       "      dtype='object')"
      ]
     },
     "execution_count": 41,
     "metadata": {},
     "output_type": "execute_result"
    }
   ],
   "source": [
    "existing_books_df.columns"
   ]
  },
  {
   "cell_type": "code",
   "execution_count": 42,
   "metadata": {},
   "outputs": [],
   "source": [
    "existing_books_df['average_rating'] = np.multiply(np.arange(10, 0, -1), existing_books_df.loc[:, 'rating_10':'rating_1']).sum(axis=1)/existing_books_df.loc[:, 'rating_10':'rating_1'].sum(axis=1)"
   ]
  },
  {
   "cell_type": "code",
   "execution_count": 43,
   "metadata": {},
   "outputs": [
    {
     "data": {
      "text/plain": [
       "Kategoria\n",
       "rękodzieło                                             5.559966\n",
       "rozrywka                                               6.112898\n",
       "film, kino, telewizja                                  6.116151\n",
       "ezoteryka, senniki, horoskopy                          6.538244\n",
       "horror                                                 6.596586\n",
       "opowiadania, powieści dla dzieci                       6.725457\n",
       "hobby                                                  6.749321\n",
       "satyra                                                 6.752498\n",
       "bajki                                                  6.762816\n",
       "literatura dziecięca                                   6.787865\n",
       "poradniki                                              6.791378\n",
       "opowieści dla młodszych dzieci                         6.813484\n",
       "klasyka                                                6.822459\n",
       "literatura piękna                                      6.864951\n",
       "utwór dramatyczny (dramat, komedia, tragedia)          6.879616\n",
       "flora i fauna                                          6.939477\n",
       "motoryzacja                                            6.940653\n",
       "powieść przygodowa                                     6.949055\n",
       "wierszyki, piosenki                                    6.967492\n",
       "kryminał, sensacja, thriller                           6.971735\n",
       "literatura młodzieżowa                                 6.975002\n",
       "baśnie, legendy, podania                               6.988451\n",
       "literatura podróżnicza                                 6.988547\n",
       "kulinaria, przepisy kulinarne                          7.002614\n",
       "popularnonaukowa dziecięca                             7.021735\n",
       "pozostałe                                              7.078103\n",
       "publicystyka literacka, eseje                          7.083239\n",
       "zdrowie, medycyna                                      7.084051\n",
       "poradniki dla rodziców                                 7.085204\n",
       "językoznawstwo, nauka o literaturze                    7.094779\n",
       "biografia, autobiografia, pamiętnik                    7.104047\n",
       "sztuka                                                 7.126188\n",
       "popularnonaukowa                                       7.134425\n",
       "fantasy, science fiction                               7.150777\n",
       "literatura obyczajowa, romans                          7.165824\n",
       "religia                                                7.174207\n",
       "reportaż                                               7.186322\n",
       "nauki społeczne (psychologia, socjologia, itd.)        7.201242\n",
       "filozofia, etyka                                       7.249149\n",
       "militaria, wojskowość                                  7.278672\n",
       "historia                                               7.305675\n",
       "powieść historyczna                                    7.336184\n",
       "sport                                                  7.346653\n",
       "turystyka, mapy, atlasy                                7.370806\n",
       "romantasy                                              7.377346\n",
       "poezja                                                 7.397048\n",
       "muzyka                                                 7.407845\n",
       "biznes, finanse                                        7.410933\n",
       "albumy                                                 7.447434\n",
       "nauki przyrodnicze (fizyka, chemia, biologia, itd.)    7.516770\n",
       "informatyka, matematyka                                7.554670\n",
       "astronomia, astrofizyka                                7.626510\n",
       "encyklopedie, słowniki                                 7.632209\n",
       "komiksy                                                7.715699\n",
       "inne                                                   7.734495\n",
       "historie biblijne                                      7.750000\n",
       "interaktywne, obrazkowe, edukacyjne                    8.198307\n",
       "Name: average_rating, dtype: float64"
      ]
     },
     "execution_count": 43,
     "metadata": {},
     "output_type": "execute_result"
    }
   ],
   "source": [
    "existing_books_df.groupby('Kategoria').average_rating.mean().sort_values(ascending=True)"
   ]
  },
  {
   "cell_type": "code",
   "execution_count": 44,
   "metadata": {},
   "outputs": [],
   "source": [
    "total_ratings = existing_books_df.loc[:, 'rating_10':'rating_1'].sum(axis=1)"
   ]
  },
  {
   "cell_type": "code",
   "execution_count": 45,
   "metadata": {},
   "outputs": [],
   "source": [
    "one_rating_normalized = existing_books_df['rating_1']/total_ratings"
   ]
  },
  {
   "cell_type": "code",
   "execution_count": 46,
   "metadata": {},
   "outputs": [
    {
     "data": {
      "text/plain": [
       "3583     0.282759\n",
       "10224    0.202869\n",
       "11289    0.200000\n",
       "5982     0.196057\n",
       "6199     0.195011\n",
       "dtype: float64"
      ]
     },
     "execution_count": 46,
     "metadata": {},
     "output_type": "execute_result"
    }
   ],
   "source": [
    "one_rating_normalized.sort_values(ascending=False)[:5]"
   ]
  },
  {
   "cell_type": "code",
   "execution_count": 47,
   "metadata": {},
   "outputs": [
    {
     "data": {
      "text/html": [
       "<div>\n",
       "<style scoped>\n",
       "    .dataframe tbody tr th:only-of-type {\n",
       "        vertical-align: middle;\n",
       "    }\n",
       "\n",
       "    .dataframe tbody tr th {\n",
       "        vertical-align: top;\n",
       "    }\n",
       "\n",
       "    .dataframe thead th {\n",
       "        text-align: right;\n",
       "    }\n",
       "</style>\n",
       "<table border=\"1\" class=\"dataframe\">\n",
       "  <thead>\n",
       "    <tr style=\"text-align: right;\">\n",
       "      <th></th>\n",
       "      <th>author</th>\n",
       "      <th>Tytuł oryginału</th>\n",
       "      <th>average_rating</th>\n",
       "      <th>description</th>\n",
       "      <th>Data 1. wydania</th>\n",
       "      <th>ISBN</th>\n",
       "    </tr>\n",
       "  </thead>\n",
       "  <tbody>\n",
       "    <tr>\n",
       "      <th>3583</th>\n",
       "      <td>Harvard Lampoon</td>\n",
       "      <td>Nightlight: A parody</td>\n",
       "      <td>3.466207</td>\n",
       "      <td>Zabawny, zaskakujący pastisz słynnego \"Zmierz...</td>\n",
       "      <td>NaN</td>\n",
       "      <td>978-83-247-1886-3</td>\n",
       "    </tr>\n",
       "    <tr>\n",
       "      <th>10224</th>\n",
       "      <td>Philip Athans</td>\n",
       "      <td>Baldur's Gate</td>\n",
       "      <td>3.706967</td>\n",
       "      <td>Bhal Musi Być Powstrzymany!Ktoś sabotuje kopa...</td>\n",
       "      <td>NaN</td>\n",
       "      <td>8387376183</td>\n",
       "    </tr>\n",
       "    <tr>\n",
       "      <th>11289</th>\n",
       "      <td>Weronika R.</td>\n",
       "      <td>NaN</td>\n",
       "      <td>4.205882</td>\n",
       "      <td>Autentyczny zapis notatek i dyskusji prowadzo...</td>\n",
       "      <td>NaN</td>\n",
       "      <td>978-83-7183-825-5</td>\n",
       "    </tr>\n",
       "    <tr>\n",
       "      <th>5982</th>\n",
       "      <td>Barbara Jasnyk</td>\n",
       "      <td>NaN</td>\n",
       "      <td>3.759036</td>\n",
       "      <td>Basia Jasnyk z popularnego serialu TERAZ ALBO...</td>\n",
       "      <td>NaN</td>\n",
       "      <td>978-83-7414-537-4</td>\n",
       "    </tr>\n",
       "    <tr>\n",
       "      <th>6199</th>\n",
       "      <td>Jina Bacarr</td>\n",
       "      <td>Blonde geisha</td>\n",
       "      <td>4.223356</td>\n",
       "      <td>Wczesna wiosna 1892 roku przyniosła w Japonii...</td>\n",
       "      <td>NaN</td>\n",
       "      <td>9788323853206</td>\n",
       "    </tr>\n",
       "    <tr>\n",
       "      <th>14521</th>\n",
       "      <td>Pernilla Stalfelt</td>\n",
       "      <td>Bojsboken</td>\n",
       "      <td>5.046512</td>\n",
       "      <td>Czy rzeczywiście można napisać całą książkę o...</td>\n",
       "      <td>NaN</td>\n",
       "      <td>9788375540024</td>\n",
       "    </tr>\n",
       "    <tr>\n",
       "      <th>11916</th>\n",
       "      <td>Philip Athans</td>\n",
       "      <td>Shadows of Amn</td>\n",
       "      <td>3.724739</td>\n",
       "      <td>Bhaal umarł! Jednak jego wyznawcy chcą sprowa...</td>\n",
       "      <td>NaN</td>\n",
       "      <td>8387376221</td>\n",
       "    </tr>\n",
       "    <tr>\n",
       "      <th>12758</th>\n",
       "      <td>Michael Gerber</td>\n",
       "      <td>The Chronicles of Blarnia: The Lying Bitch in ...</td>\n",
       "      <td>3.949367</td>\n",
       "      <td>Ukochany klasyk fantasy, dzieło małomównego, ...</td>\n",
       "      <td>NaN</td>\n",
       "      <td>8374800089</td>\n",
       "    </tr>\n",
       "    <tr>\n",
       "      <th>5983</th>\n",
       "      <td>Michael Gerber</td>\n",
       "      <td>Barry Trotter and the Shameless Parody</td>\n",
       "      <td>4.027809</td>\n",
       "      <td>Barry Trotter ma 22 lata i wciąż studiuje w S...</td>\n",
       "      <td>NaN</td>\n",
       "      <td>8374800097</td>\n",
       "    </tr>\n",
       "    <tr>\n",
       "      <th>13457</th>\n",
       "      <td>Marzena Domaros</td>\n",
       "      <td>NaN</td>\n",
       "      <td>3.344828</td>\n",
       "      <td>Erotyczne Immunitety. Dość słynne i bulwersuj...</td>\n",
       "      <td>NaN</td>\n",
       "      <td>83-03-01280-0</td>\n",
       "    </tr>\n",
       "    <tr>\n",
       "      <th>4517</th>\n",
       "      <td>Keri Smith</td>\n",
       "      <td>Wreck this journal. To create is to destroy</td>\n",
       "      <td>5.559966</td>\n",
       "      <td>Światowy bestseller, którego nakład przekrocz...</td>\n",
       "      <td>2007-06-01</td>\n",
       "      <td>9788364853005</td>\n",
       "    </tr>\n",
       "    <tr>\n",
       "      <th>13699</th>\n",
       "      <td>Melissa Panarello</td>\n",
       "      <td>NaN</td>\n",
       "      <td>4.142132</td>\n",
       "      <td>Nastoletnia Melissa ucieka z Katanii, którą p...</td>\n",
       "      <td>NaN</td>\n",
       "      <td>9788373595064</td>\n",
       "    </tr>\n",
       "    <tr>\n",
       "      <th>15391</th>\n",
       "      <td>Janusz Korwin-Mikke</td>\n",
       "      <td>NaN</td>\n",
       "      <td>5.722973</td>\n",
       "      <td>Tylko dla mężczyzn!„Droga Kandydatko na Czyte...</td>\n",
       "      <td>NaN</td>\n",
       "      <td>83-89467-40-2</td>\n",
       "    </tr>\n",
       "    <tr>\n",
       "      <th>4376</th>\n",
       "      <td>Izabela Kuna</td>\n",
       "      <td>NaN</td>\n",
       "      <td>4.175000</td>\n",
       "      <td>Klara Izy Kuny – głośny, bestsellerowy debiut...</td>\n",
       "      <td>NaN</td>\n",
       "      <td>9788383600505</td>\n",
       "    </tr>\n",
       "    <tr>\n",
       "      <th>12990</th>\n",
       "      <td>Robert Kaplow</td>\n",
       "      <td>Who's Killing the Great Writers of America?</td>\n",
       "      <td>3.600000</td>\n",
       "      <td>Piszesz? To giń!Z dnia na dzień świat traci u...</td>\n",
       "      <td>NaN</td>\n",
       "      <td>978-83-247-1014-0</td>\n",
       "    </tr>\n",
       "    <tr>\n",
       "      <th>4721</th>\n",
       "      <td>Anne Rice</td>\n",
       "      <td>The Claiming of Sleeping Beauty</td>\n",
       "      <td>4.168430</td>\n",
       "      <td>Po stu latach Śpiąca Królewna zostaje przebud...</td>\n",
       "      <td>2004-01-01</td>\n",
       "      <td>9788377190012</td>\n",
       "    </tr>\n",
       "    <tr>\n",
       "      <th>13517</th>\n",
       "      <td>Manula Kalicka</td>\n",
       "      <td>NaN</td>\n",
       "      <td>4.039409</td>\n",
       "      <td>Net to zoo i dżungla – konstatuje Caro, bohat...</td>\n",
       "      <td>NaN</td>\n",
       "      <td>8374692782</td>\n",
       "    </tr>\n",
       "    <tr>\n",
       "      <th>14604</th>\n",
       "      <td>Catherine Millet</td>\n",
       "      <td>Lavie sexuelle de Catherine M.</td>\n",
       "      <td>4.116279</td>\n",
       "      <td>Autobiograficzna spowiedź z pogranicza pornog...</td>\n",
       "      <td>NaN</td>\n",
       "      <td>8373590838</td>\n",
       "    </tr>\n",
       "    <tr>\n",
       "      <th>5991</th>\n",
       "      <td>Adolf Hitler</td>\n",
       "      <td>NaN</td>\n",
       "      <td>4.194719</td>\n",
       "      <td>Mein Kampf Adolfa Hitlera to jedna z najbardz...</td>\n",
       "      <td>2021-01-01</td>\n",
       "      <td>9788311181038</td>\n",
       "    </tr>\n",
       "    <tr>\n",
       "      <th>12384</th>\n",
       "      <td>David Toscana</td>\n",
       "      <td>El ultimo lector</td>\n",
       "      <td>4.145669</td>\n",
       "      <td>Nad meksykańskie miasteczko Icamole nadciągnę...</td>\n",
       "      <td>NaN</td>\n",
       "      <td>9788324713004</td>\n",
       "    </tr>\n",
       "  </tbody>\n",
       "</table>\n",
       "</div>"
      ],
      "text/plain": [
       "                    author                                    Tytuł oryginału  \\\n",
       "3583       Harvard Lampoon                               Nightlight: A parody   \n",
       "10224        Philip Athans                                      Baldur's Gate   \n",
       "11289          Weronika R.                                                NaN   \n",
       "5982        Barbara Jasnyk                                                NaN   \n",
       "6199           Jina Bacarr                                      Blonde geisha   \n",
       "14521    Pernilla Stalfelt                                          Bojsboken   \n",
       "11916        Philip Athans                                     Shadows of Amn   \n",
       "12758       Michael Gerber  The Chronicles of Blarnia: The Lying Bitch in ...   \n",
       "5983        Michael Gerber             Barry Trotter and the Shameless Parody   \n",
       "13457      Marzena Domaros                                                NaN   \n",
       "4517            Keri Smith        Wreck this journal. To create is to destroy   \n",
       "13699    Melissa Panarello                                                NaN   \n",
       "15391  Janusz Korwin-Mikke                                                NaN   \n",
       "4376          Izabela Kuna                                                NaN   \n",
       "12990        Robert Kaplow        Who's Killing the Great Writers of America?   \n",
       "4721             Anne Rice                    The Claiming of Sleeping Beauty   \n",
       "13517       Manula Kalicka                                                NaN   \n",
       "14604     Catherine Millet                     Lavie sexuelle de Catherine M.   \n",
       "5991          Adolf Hitler                                                NaN   \n",
       "12384        David Toscana                                   El ultimo lector   \n",
       "\n",
       "       average_rating                                        description  \\\n",
       "3583         3.466207   Zabawny, zaskakujący pastisz słynnego \"Zmierz...   \n",
       "10224        3.706967   Bhal Musi Być Powstrzymany!Ktoś sabotuje kopa...   \n",
       "11289        4.205882   Autentyczny zapis notatek i dyskusji prowadzo...   \n",
       "5982         3.759036   Basia Jasnyk z popularnego serialu TERAZ ALBO...   \n",
       "6199         4.223356   Wczesna wiosna 1892 roku przyniosła w Japonii...   \n",
       "14521        5.046512   Czy rzeczywiście można napisać całą książkę o...   \n",
       "11916        3.724739   Bhaal umarł! Jednak jego wyznawcy chcą sprowa...   \n",
       "12758        3.949367   Ukochany klasyk fantasy, dzieło małomównego, ...   \n",
       "5983         4.027809   Barry Trotter ma 22 lata i wciąż studiuje w S...   \n",
       "13457        3.344828   Erotyczne Immunitety. Dość słynne i bulwersuj...   \n",
       "4517         5.559966   Światowy bestseller, którego nakład przekrocz...   \n",
       "13699        4.142132   Nastoletnia Melissa ucieka z Katanii, którą p...   \n",
       "15391        5.722973   Tylko dla mężczyzn!„Droga Kandydatko na Czyte...   \n",
       "4376         4.175000   Klara Izy Kuny – głośny, bestsellerowy debiut...   \n",
       "12990        3.600000   Piszesz? To giń!Z dnia na dzień świat traci u...   \n",
       "4721         4.168430   Po stu latach Śpiąca Królewna zostaje przebud...   \n",
       "13517        4.039409   Net to zoo i dżungla – konstatuje Caro, bohat...   \n",
       "14604        4.116279   Autobiograficzna spowiedź z pogranicza pornog...   \n",
       "5991         4.194719   Mein Kampf Adolfa Hitlera to jedna z najbardz...   \n",
       "12384        4.145669   Nad meksykańskie miasteczko Icamole nadciągnę...   \n",
       "\n",
       "      Data 1. wydania               ISBN  \n",
       "3583              NaN  978-83-247-1886-3  \n",
       "10224             NaN         8387376183  \n",
       "11289             NaN  978-83-7183-825-5  \n",
       "5982              NaN  978-83-7414-537-4  \n",
       "6199              NaN      9788323853206  \n",
       "14521             NaN      9788375540024  \n",
       "11916             NaN         8387376221  \n",
       "12758             NaN         8374800089  \n",
       "5983              NaN         8374800097  \n",
       "13457             NaN      83-03-01280-0  \n",
       "4517       2007-06-01      9788364853005  \n",
       "13699             NaN      9788373595064  \n",
       "15391             NaN      83-89467-40-2  \n",
       "4376              NaN      9788383600505  \n",
       "12990             NaN  978-83-247-1014-0  \n",
       "4721       2004-01-01      9788377190012  \n",
       "13517             NaN         8374692782  \n",
       "14604             NaN         8373590838  \n",
       "5991       2021-01-01      9788311181038  \n",
       "12384             NaN      9788324713004  "
      ]
     },
     "execution_count": 47,
     "metadata": {},
     "output_type": "execute_result"
    }
   ],
   "source": [
    "existing_books_df.loc[one_rating_normalized.sort_values(ascending=False)[:20].index, ['author', 'Tytuł oryginału', 'average_rating', 'description', 'Data 1. wydania', 'ISBN']]"
   ]
  },
  {
   "cell_type": "code",
   "execution_count": 48,
   "metadata": {},
   "outputs": [],
   "source": [
    "ten_rating_normalized = existing_books_df['rating_10']/total_ratings"
   ]
  },
  {
   "cell_type": "code",
   "execution_count": 49,
   "metadata": {},
   "outputs": [
    {
     "data": {
      "text/html": [
       "<div>\n",
       "<style scoped>\n",
       "    .dataframe tbody tr th:only-of-type {\n",
       "        vertical-align: middle;\n",
       "    }\n",
       "\n",
       "    .dataframe tbody tr th {\n",
       "        vertical-align: top;\n",
       "    }\n",
       "\n",
       "    .dataframe thead th {\n",
       "        text-align: right;\n",
       "    }\n",
       "</style>\n",
       "<table border=\"1\" class=\"dataframe\">\n",
       "  <thead>\n",
       "    <tr style=\"text-align: right;\">\n",
       "      <th></th>\n",
       "      <th>author</th>\n",
       "      <th>Tytuł oryginału</th>\n",
       "      <th>average_rating</th>\n",
       "      <th>description</th>\n",
       "      <th>Data 1. wydania</th>\n",
       "      <th>ISBN</th>\n",
       "    </tr>\n",
       "  </thead>\n",
       "  <tbody>\n",
       "    <tr>\n",
       "      <th>8233</th>\n",
       "      <td>Mateusz Samołyk</td>\n",
       "      <td>NaN</td>\n",
       "      <td>9.580699</td>\n",
       "      <td>Od jakiegoś czasu myślisz o inwestowaniu, ale...</td>\n",
       "      <td>NaN</td>\n",
       "      <td>9788396734808</td>\n",
       "    </tr>\n",
       "    <tr>\n",
       "      <th>8247</th>\n",
       "      <td>Andrzej Gryżewski</td>\n",
       "      <td>NaN</td>\n",
       "      <td>9.209469</td>\n",
       "      <td>Kontynuacja bestsellerowej „Sztuki obsługi pe...</td>\n",
       "      <td>NaN</td>\n",
       "      <td>9788326842528</td>\n",
       "    </tr>\n",
       "    <tr>\n",
       "      <th>5326</th>\n",
       "      <td>Damian Poprawa</td>\n",
       "      <td>NaN</td>\n",
       "      <td>8.975952</td>\n",
       "      <td>Co zrobić, jeśli ktoś kogo kochałaś zupełnie ...</td>\n",
       "      <td>NaN</td>\n",
       "      <td>9788395929823</td>\n",
       "    </tr>\n",
       "    <tr>\n",
       "      <th>5494</th>\n",
       "      <td>Cezary Głuch</td>\n",
       "      <td>NaN</td>\n",
       "      <td>8.692458</td>\n",
       "      <td>Co jest ważniejsze – rynek akcji czy obligacj...</td>\n",
       "      <td>NaN</td>\n",
       "      <td>9788395645211</td>\n",
       "    </tr>\n",
       "    <tr>\n",
       "      <th>8412</th>\n",
       "      <td>Cezary Głuch</td>\n",
       "      <td>NaN</td>\n",
       "      <td>8.795888</td>\n",
       "      <td>Dlaczego bankierzy i politycy demonizują złot...</td>\n",
       "      <td>NaN</td>\n",
       "      <td>9788395645228</td>\n",
       "    </tr>\n",
       "    <tr>\n",
       "      <th>9323</th>\n",
       "      <td>Cezary Głuch</td>\n",
       "      <td>NaN</td>\n",
       "      <td>8.721683</td>\n",
       "      <td>Dlaczego inwestowanie wyłącznie w akcje jest ...</td>\n",
       "      <td>NaN</td>\n",
       "      <td>9788395645235</td>\n",
       "    </tr>\n",
       "    <tr>\n",
       "      <th>398</th>\n",
       "      <td>Brandon Sanderson</td>\n",
       "      <td>Words of Radiance</td>\n",
       "      <td>9.081298</td>\n",
       "      <td>Świetliści Rycerze muszą znów powstać. W końc...</td>\n",
       "      <td>2014-03-04</td>\n",
       "      <td>9788366409507</td>\n",
       "    </tr>\n",
       "    <tr>\n",
       "      <th>7789</th>\n",
       "      <td>Katarzyna Barlińska P.S. Herytiera</td>\n",
       "      <td>NaN</td>\n",
       "      <td>8.539095</td>\n",
       "      <td>Jeśli przegramy, szukaj mnie w zgliszczach mi...</td>\n",
       "      <td>NaN</td>\n",
       "      <td>9788328907034</td>\n",
       "    </tr>\n",
       "    <tr>\n",
       "      <th>1996</th>\n",
       "      <td>Marcin Iwuć</td>\n",
       "      <td>NaN</td>\n",
       "      <td>8.954857</td>\n",
       "      <td>Chcesz inwestować, ale nie wiesz, od czego za...</td>\n",
       "      <td>NaN</td>\n",
       "      <td>9788395846809</td>\n",
       "    </tr>\n",
       "    <tr>\n",
       "      <th>6215</th>\n",
       "      <td>św. Faustyna Kowalska</td>\n",
       "      <td>NaN</td>\n",
       "      <td>8.560890</td>\n",
       "      <td>„Dzienniczek” należy do pereł literatury mist...</td>\n",
       "      <td>NaN</td>\n",
       "      <td>9788366093430</td>\n",
       "    </tr>\n",
       "  </tbody>\n",
       "</table>\n",
       "</div>"
      ],
      "text/plain": [
       "                                  author    Tytuł oryginału  average_rating  \\\n",
       "8233                     Mateusz Samołyk                NaN        9.580699   \n",
       "8247                   Andrzej Gryżewski                NaN        9.209469   \n",
       "5326                      Damian Poprawa                NaN        8.975952   \n",
       "5494                        Cezary Głuch                NaN        8.692458   \n",
       "8412                        Cezary Głuch                NaN        8.795888   \n",
       "9323                        Cezary Głuch                NaN        8.721683   \n",
       "398                    Brandon Sanderson  Words of Radiance        9.081298   \n",
       "7789  Katarzyna Barlińska P.S. Herytiera                NaN        8.539095   \n",
       "1996                         Marcin Iwuć                NaN        8.954857   \n",
       "6215               św. Faustyna Kowalska                NaN        8.560890   \n",
       "\n",
       "                                            description Data 1. wydania  \\\n",
       "8233   Od jakiegoś czasu myślisz o inwestowaniu, ale...             NaN   \n",
       "8247   Kontynuacja bestsellerowej „Sztuki obsługi pe...             NaN   \n",
       "5326   Co zrobić, jeśli ktoś kogo kochałaś zupełnie ...             NaN   \n",
       "5494   Co jest ważniejsze – rynek akcji czy obligacj...             NaN   \n",
       "8412   Dlaczego bankierzy i politycy demonizują złot...             NaN   \n",
       "9323   Dlaczego inwestowanie wyłącznie w akcje jest ...             NaN   \n",
       "398    Świetliści Rycerze muszą znów powstać. W końc...      2014-03-04   \n",
       "7789   Jeśli przegramy, szukaj mnie w zgliszczach mi...             NaN   \n",
       "1996   Chcesz inwestować, ale nie wiesz, od czego za...             NaN   \n",
       "6215   „Dzienniczek” należy do pereł literatury mist...             NaN   \n",
       "\n",
       "               ISBN  \n",
       "8233  9788396734808  \n",
       "8247  9788326842528  \n",
       "5326  9788395929823  \n",
       "5494  9788395645211  \n",
       "8412  9788395645228  \n",
       "9323  9788395645235  \n",
       "398   9788366409507  \n",
       "7789  9788328907034  \n",
       "1996  9788395846809  \n",
       "6215  9788366093430  "
      ]
     },
     "execution_count": 49,
     "metadata": {},
     "output_type": "execute_result"
    }
   ],
   "source": [
    "existing_books_df.loc[ten_rating_normalized.sort_values(ascending=False)[:10].index, ['author', 'Tytuł oryginału', 'average_rating', 'description', 'Data 1. wydania', 'ISBN']]"
   ]
  },
  {
   "cell_type": "code",
   "execution_count": 50,
   "metadata": {},
   "outputs": [
    {
     "data": {
      "text/html": [
       "<div>\n",
       "<style scoped>\n",
       "    .dataframe tbody tr th:only-of-type {\n",
       "        vertical-align: middle;\n",
       "    }\n",
       "\n",
       "    .dataframe tbody tr th {\n",
       "        vertical-align: top;\n",
       "    }\n",
       "\n",
       "    .dataframe thead th {\n",
       "        text-align: right;\n",
       "    }\n",
       "</style>\n",
       "<table border=\"1\" class=\"dataframe\">\n",
       "  <thead>\n",
       "    <tr style=\"text-align: right;\">\n",
       "      <th></th>\n",
       "      <th>author</th>\n",
       "      <th>Tytuł oryginału</th>\n",
       "      <th>average_rating</th>\n",
       "      <th>description</th>\n",
       "      <th>Data 1. wydania</th>\n",
       "      <th>url</th>\n",
       "    </tr>\n",
       "  </thead>\n",
       "  <tbody>\n",
       "    <tr>\n",
       "      <th>8233</th>\n",
       "      <td>Mateusz Samołyk</td>\n",
       "      <td>NaN</td>\n",
       "      <td>9.580699</td>\n",
       "      <td>Od jakiegoś czasu myślisz o inwestowaniu, ale...</td>\n",
       "      <td>NaN</td>\n",
       "      <td>https://lubimyczytac.pl/ksiazka/5088590/inwest...</td>\n",
       "    </tr>\n",
       "    <tr>\n",
       "      <th>8247</th>\n",
       "      <td>Andrzej Gryżewski</td>\n",
       "      <td>NaN</td>\n",
       "      <td>9.209469</td>\n",
       "      <td>Kontynuacja bestsellerowej „Sztuki obsługi pe...</td>\n",
       "      <td>NaN</td>\n",
       "      <td>https://lubimyczytac.pl/ksiazka/5097467/sztuka...</td>\n",
       "    </tr>\n",
       "    <tr>\n",
       "      <th>398</th>\n",
       "      <td>Brandon Sanderson</td>\n",
       "      <td>Words of Radiance</td>\n",
       "      <td>9.081298</td>\n",
       "      <td>Świetliści Rycerze muszą znów powstać. W końc...</td>\n",
       "      <td>2014-03-04</td>\n",
       "      <td>https://lubimyczytac.pl/ksiazka/4905352/slowa-...</td>\n",
       "    </tr>\n",
       "    <tr>\n",
       "      <th>5326</th>\n",
       "      <td>Damian Poprawa</td>\n",
       "      <td>NaN</td>\n",
       "      <td>8.975952</td>\n",
       "      <td>Co zrobić, jeśli ktoś kogo kochałaś zupełnie ...</td>\n",
       "      <td>NaN</td>\n",
       "      <td>https://lubimyczytac.pl/ksiazka/4976000/wolna-...</td>\n",
       "    </tr>\n",
       "    <tr>\n",
       "      <th>1996</th>\n",
       "      <td>Marcin Iwuć</td>\n",
       "      <td>NaN</td>\n",
       "      <td>8.954857</td>\n",
       "      <td>Chcesz inwestować, ale nie wiesz, od czego za...</td>\n",
       "      <td>NaN</td>\n",
       "      <td>https://lubimyczytac.pl/ksiazka/4940535/finans...</td>\n",
       "    </tr>\n",
       "    <tr>\n",
       "      <th>5133</th>\n",
       "      <td>Dave Gibbons</td>\n",
       "      <td>Absolute Watchmen</td>\n",
       "      <td>8.951220</td>\n",
       "      <td>Monumentalne dzieło, które zburzyło stereotyp...</td>\n",
       "      <td>1986-01-01</td>\n",
       "      <td>https://lubimyczytac.pl/ksiazka/4990511/straznicy</td>\n",
       "    </tr>\n",
       "    <tr>\n",
       "      <th>9872</th>\n",
       "      <td>Mario Puzo</td>\n",
       "      <td>The Godfather / The Sicilian / The Last Don</td>\n",
       "      <td>8.942708</td>\n",
       "      <td>Wyjątkowe wydanie ze wstępem Francisa Forda C...</td>\n",
       "      <td>NaN</td>\n",
       "      <td>https://lubimyczytac.pl/ksiazka/5042856/ojciec...</td>\n",
       "    </tr>\n",
       "    <tr>\n",
       "      <th>3476</th>\n",
       "      <td>Larry McMurtry</td>\n",
       "      <td>Lonesome Dove</td>\n",
       "      <td>8.894771</td>\n",
       "      <td>Oddana po raz pierwszy do rąk czytelników w 1...</td>\n",
       "      <td>NaN</td>\n",
       "      <td>https://lubimyczytac.pl/ksiazka/4799556/na-pol...</td>\n",
       "    </tr>\n",
       "    <tr>\n",
       "      <th>13530</th>\n",
       "      <td>Don Rosa</td>\n",
       "      <td>The Life and Times of Scrooge McDuck</td>\n",
       "      <td>8.848780</td>\n",
       "      <td>Podróże po całym świecie, niesamowite przygod...</td>\n",
       "      <td>NaN</td>\n",
       "      <td>https://lubimyczytac.pl/ksiazka/89295/zycie-i-...</td>\n",
       "    </tr>\n",
       "    <tr>\n",
       "      <th>272</th>\n",
       "      <td>Brandon Sanderson</td>\n",
       "      <td>The Way of Kings</td>\n",
       "      <td>8.831343</td>\n",
       "      <td>Tęsknię za dniami przed Ostatnim Spustoszenie...</td>\n",
       "      <td>2010-08-31</td>\n",
       "      <td>https://lubimyczytac.pl/ksiazka/4896952/droga-...</td>\n",
       "    </tr>\n",
       "  </tbody>\n",
       "</table>\n",
       "</div>"
      ],
      "text/plain": [
       "                  author                              Tytuł oryginału  \\\n",
       "8233     Mateusz Samołyk                                          NaN   \n",
       "8247   Andrzej Gryżewski                                          NaN   \n",
       "398    Brandon Sanderson                            Words of Radiance   \n",
       "5326      Damian Poprawa                                          NaN   \n",
       "1996         Marcin Iwuć                                          NaN   \n",
       "5133        Dave Gibbons                            Absolute Watchmen   \n",
       "9872          Mario Puzo  The Godfather / The Sicilian / The Last Don   \n",
       "3476      Larry McMurtry                                Lonesome Dove   \n",
       "13530           Don Rosa         The Life and Times of Scrooge McDuck   \n",
       "272    Brandon Sanderson                             The Way of Kings   \n",
       "\n",
       "       average_rating                                        description  \\\n",
       "8233         9.580699   Od jakiegoś czasu myślisz o inwestowaniu, ale...   \n",
       "8247         9.209469   Kontynuacja bestsellerowej „Sztuki obsługi pe...   \n",
       "398          9.081298   Świetliści Rycerze muszą znów powstać. W końc...   \n",
       "5326         8.975952   Co zrobić, jeśli ktoś kogo kochałaś zupełnie ...   \n",
       "1996         8.954857   Chcesz inwestować, ale nie wiesz, od czego za...   \n",
       "5133         8.951220   Monumentalne dzieło, które zburzyło stereotyp...   \n",
       "9872         8.942708   Wyjątkowe wydanie ze wstępem Francisa Forda C...   \n",
       "3476         8.894771   Oddana po raz pierwszy do rąk czytelników w 1...   \n",
       "13530        8.848780   Podróże po całym świecie, niesamowite przygod...   \n",
       "272          8.831343   Tęsknię za dniami przed Ostatnim Spustoszenie...   \n",
       "\n",
       "      Data 1. wydania                                                url  \n",
       "8233              NaN  https://lubimyczytac.pl/ksiazka/5088590/inwest...  \n",
       "8247              NaN  https://lubimyczytac.pl/ksiazka/5097467/sztuka...  \n",
       "398        2014-03-04  https://lubimyczytac.pl/ksiazka/4905352/slowa-...  \n",
       "5326              NaN  https://lubimyczytac.pl/ksiazka/4976000/wolna-...  \n",
       "1996              NaN  https://lubimyczytac.pl/ksiazka/4940535/finans...  \n",
       "5133       1986-01-01  https://lubimyczytac.pl/ksiazka/4990511/straznicy  \n",
       "9872              NaN  https://lubimyczytac.pl/ksiazka/5042856/ojciec...  \n",
       "3476              NaN  https://lubimyczytac.pl/ksiazka/4799556/na-pol...  \n",
       "13530             NaN  https://lubimyczytac.pl/ksiazka/89295/zycie-i-...  \n",
       "272        2010-08-31  https://lubimyczytac.pl/ksiazka/4896952/droga-...  "
      ]
     },
     "execution_count": 50,
     "metadata": {},
     "output_type": "execute_result"
    }
   ],
   "source": [
    "existing_books_df.loc[existing_books_df.average_rating.sort_values(ascending=False)[:10].index, ['author', 'Tytuł oryginału', 'average_rating', 'description', 'Data 1. wydania', 'url']]"
   ]
  },
  {
   "cell_type": "code",
   "execution_count": 55,
   "metadata": {},
   "outputs": [],
   "source": [
    "import matplotlib.pyplot as plt"
   ]
  },
  {
   "cell_type": "code",
   "execution_count": 58,
   "metadata": {},
   "outputs": [
    {
     "data": {
      "image/png": "[encoded data removed]",
      "text/plain": [
       "<Figure size 1500x500 with 1 Axes>"
      ]
     },
     "metadata": {},
     "output_type": "display_data"
    }
   ],
   "source": [
    "ax = existing_books_df['tags'].str.split('&').explode().value_counts()[existing_books_df['tags'].str.split('&').explode().value_counts() > 300].plot(kind='bar', figsize=(15, 5),xlabel='Tags', ylabel='Number of books', title='Number of books per tag')\n",
    "ax.set_xlabel('Tags')\n",
    "ax.set_ylabel('Number of Vooks')\n",
    "ax.set_title('Number of Books Per Tag')\n",
    "plt.xticks(rotation=30)  # Rotate x-axis labels by 45 degrees\n",
    "plt.show()"
   ]
  },
  {
   "cell_type": "code",
   "execution_count": 154,
   "metadata": {},
   "outputs": [
    {
     "data": {
      "text/plain": [
       "8                            Hobbit Czyli Tam I Z Powrotem\n",
       "9                                                     1984\n",
       "11                                       Ostatnie Zyczenie\n",
       "15                                              Krew Elfow\n",
       "19                                     Miecz Przeznaczenia\n",
       "                               ...                        \n",
       "10006    Ksiazka Ktora Napisalem Zeby Miec Na Dziwki I ...\n",
       "10013                                            Deweloper\n",
       "10014                                            Wystarczy\n",
       "10016                                 Otworz Sie Na Milosc\n",
       "10018                               Chlopcy Ktorych Kocham\n",
       "Name: url, Length: 3510, dtype: object"
      ]
     },
     "execution_count": 154,
     "metadata": {},
     "output_type": "execute_result"
    }
   ],
   "source": [
    "existing_books_df[existing_books_df['Tytuł oryginału'].isna()]['url'].str.split('/').str[-1].str.split('-').str.join(' ').str.title()"
   ]
  },
  {
   "cell_type": "code",
   "execution_count": 168,
   "metadata": {},
   "outputs": [
    {
     "name": "stderr",
     "output_type": "stream",
     "text": [
      "/tmp/ipykernel_133533/645390628.py:1: UserWarning: Boolean Series key will be reindexed to match DataFrame index.\n",
      "  existing_authors_df[existing_books_df['Liczba stron'] == 667.0]\n"
     ]
    },
    {
     "data": {
      "text/html": [
       "<div>\n",
       "<style scoped>\n",
       "    .dataframe tbody tr th:only-of-type {\n",
       "        vertical-align: middle;\n",
       "    }\n",
       "\n",
       "    .dataframe tbody tr th {\n",
       "        vertical-align: top;\n",
       "    }\n",
       "\n",
       "    .dataframe thead th {\n",
       "        text-align: right;\n",
       "    }\n",
       "</style>\n",
       "<table border=\"1\" class=\"dataframe\">\n",
       "  <thead>\n",
       "    <tr style=\"text-align: right;\">\n",
       "      <th></th>\n",
       "      <th>author_name</th>\n",
       "      <th>author_url</th>\n",
       "      <th>author_average_rating</th>\n",
       "      <th>author_number_of_people_read</th>\n",
       "      <th>author_number_of_people_wants_to_read</th>\n",
       "      <th>author_date_of_birth</th>\n",
       "      <th>author_number_of_fans</th>\n",
       "      <th>author_number_of_books_written</th>\n",
       "      <th>author_number_of_awards</th>\n",
       "    </tr>\n",
       "  </thead>\n",
       "  <tbody>\n",
       "  </tbody>\n",
       "</table>\n",
       "</div>"
      ],
      "text/plain": [
       "Empty DataFrame\n",
       "Columns: [author_name, author_url, author_average_rating, author_number_of_people_read, author_number_of_people_wants_to_read, author_date_of_birth, author_number_of_fans, author_number_of_books_written, author_number_of_awards]\n",
       "Index: []"
      ]
     },
     "execution_count": 168,
     "metadata": {},
     "output_type": "execute_result"
    }
   ],
   "source": [
    "existing_authors_df[existing_books_df['Liczba stron'] == 667.0]"
   ]
  },
  {
   "cell_type": "code",
   "execution_count": 171,
   "metadata": {},
   "outputs": [
    {
     "data": {
      "text/plain": [
       "<Axes: title={'center': 'Rozkład liczby stron w książkach'}, ylabel='Frequency'>"
      ]
     },
     "execution_count": 171,
     "metadata": {},
     "output_type": "execute_result"
    },
    {
     "data": {
      "image/png": "[encoded data removed]",
      "text/plain": [
       "<Figure size 640x480 with 1 Axes>"
      ]
     },
     "metadata": {},
     "output_type": "display_data"
    }
   ],
   "source": [
    "existing_books_df['Liczba stron'].plot(kind='hist', bins=50, title='Rozkład liczby stron w książkach')"
   ]
  },
  {
   "cell_type": "code",
   "execution_count": 175,
   "metadata": {},
   "outputs": [
    {
     "data": {
      "image/png": "[encoded data removed]",
      "text/plain": [
       "<Figure size 1500x1000 with 1 Axes>"
      ]
     },
     "metadata": {},
     "output_type": "display_data"
    }
   ],
   "source": [
    "import matplotlib.pyplot as plt\n",
    "\n",
    "# Filter categories with more than 100 books\n",
    "filtered_categories = existing_books_df['Kategoria'].value_counts()\n",
    "filtered_categories = filtered_categories[filtered_categories > 500].index\n",
    "\n",
    "# Plot histograms for each filtered category\n",
    "plt.figure(figsize=(15, 10))\n",
    "for category in filtered_categories:\n",
    "    subset = existing_books_df[existing_books_df['Kategoria'] == category]\n",
    "    subset['Liczba stron'].plot(kind='hist', bins=40, alpha=0.5, label=category)\n",
    "\n",
    "plt.title('Rozkład liczby stron w książkach w zależności od kategorii')\n",
    "plt.xlabel('Liczba stron')\n",
    "plt.ylabel('Frequency')\n",
    "plt.legend()\n",
    "plt.show()"
   ]
  },
  {
   "cell_type": "code",
   "execution_count": 63,
   "metadata": {},
   "outputs": [
    {
     "data": {
      "text/plain": [
       "Kategoria\n",
       "literatura piękna                                      2962\n",
       "fantasy, science fiction                               2727\n",
       "kryminał, sensacja, thriller                           2697\n",
       "literatura obyczajowa, romans                          1803\n",
       "literatura młodzieżowa                                  827\n",
       "literatura dziecięca                                    725\n",
       "reportaż                                                521\n",
       "biografia, autobiografia, pamiętnik                     514\n",
       "komiksy                                                 404\n",
       "powieść historyczna                                     380\n",
       "horror                                                  343\n",
       "klasyka                                                 226\n",
       "poradniki                                               145\n",
       "nauki społeczne (psychologia, socjologia, itd.)         126\n",
       "publicystyka literacka, eseje                           118\n",
       "historia                                                101\n",
       "utwór dramatyczny (dramat, komedia, tragedia)            95\n",
       "poezja                                                   93\n",
       "literatura podróżnicza                                   90\n",
       "romantasy                                                84\n",
       "popularnonaukowa                                         82\n",
       "powieść przygodowa                                       78\n",
       "filozofia, etyka                                         63\n",
       "religia                                                  41\n",
       "biznes, finanse                                          27\n",
       "zdrowie, medycyna                                        21\n",
       "satyra                                                   18\n",
       "językoznawstwo, nauka o literaturze                      18\n",
       "poradniki dla rodziców                                   14\n",
       "flora i fauna                                            11\n",
       "baśnie, legendy, podania                                 10\n",
       "opowiadania, powieści dla dzieci                         10\n",
       "astronomia, astrofizyka                                  10\n",
       "sport                                                     9\n",
       "nauki przyrodnicze (fizyka, chemia, biologia, itd.)       9\n",
       "bajki                                                     8\n",
       "muzyka                                                    8\n",
       "kulinaria, przepisy kulinarne                             8\n",
       "sztuka                                                    7\n",
       "rozrywka                                                  7\n",
       "ezoteryka, senniki, horoskopy                             7\n",
       "hobby                                                     6\n",
       "film, kino, telewizja                                     6\n",
       "militaria, wojskowość                                     5\n",
       "albumy                                                    5\n",
       "encyklopedie, słowniki                                    4\n",
       "inne                                                      4\n",
       "turystyka, mapy, atlasy                                   4\n",
       "wierszyki, piosenki                                       3\n",
       "informatyka, matematyka                                   3\n",
       "pozostałe                                                 2\n",
       "opowieści dla młodszych dzieci                            2\n",
       "interaktywne, obrazkowe, edukacyjne                       2\n",
       "popularnonaukowa dziecięca                                2\n",
       "rękodzieło                                                1\n",
       "motoryzacja                                               1\n",
       "historie biblijne                                         1\n",
       "Name: count, dtype: int64"
      ]
     },
     "execution_count": 63,
     "metadata": {},
     "output_type": "execute_result"
    }
   ],
   "source": [
    "existing_books_df['Kategoria'].value_counts()"
   ]
  },
  {
   "cell_type": "code",
   "execution_count": 66,
   "metadata": {},
   "outputs": [
    {
     "data": {
      "image/png": "[encoded data removed]",
      "text/plain": [
       "<Figure size 1500x1000 with 1 Axes>"
      ]
     },
     "metadata": {},
     "output_type": "display_data"
    }
   ],
   "source": [
    "import matplotlib.pyplot as plt\n",
    "import seaborn as sns\n",
    "\n",
    "# Filter categories with more than 100 books\n",
    "# filtered_categories = existing_books_df['Kategoria'].value_counts()\n",
    "# filtered_categories = filtered_categories[filtered_categories > 30][[0]].index\n",
    "filtered_categories = ['fantasy, science fiction', 'horror', 'reportaż']\n",
    "# Plot KDE for each filtered category\n",
    "plt.figure(figsize=(15, 10))\n",
    "for category in filtered_categories:\n",
    "    subset = existing_books_df[existing_books_df['Kategoria'] == category]\n",
    "    sns.kdeplot(subset['Liczba stron'], label=category, fill=True, alpha=0.5)\n",
    "\n",
    "plt.title('Rozkład Jądrowy Liczby Stron w Książkach w Zależności od Kategorii')\n",
    "plt.xlabel('Liczba stron')\n",
    "plt.ylabel('Density')\n",
    "plt.legend()\n",
    "plt.show()"
   ]
  },
  {
   "cell_type": "code",
   "execution_count": null,
   "metadata": {},
   "outputs": [
    {
     "data": {
      "text/plain": [
       "Series([], Name: count, dtype: int64)"
      ]
     },
     "execution_count": 196,
     "metadata": {},
     "output_type": "execute_result"
    }
   ],
   "source": [
    "existing_books_df.groupby('Kategoria')"
   ]
  },
  {
   "cell_type": "code",
   "execution_count": null,
   "metadata": {},
   "outputs": [],
   "source": [
    "plt.figure(figsize=(15, 10))\n",
    "# for category in filtered_categories:\n",
    "subset = existing_books_df['Kategoria']\n",
    "sns.kdeplot(subset['Liczba stron'], label=category, fill=True, alpha=0.5)\n",
    "\n",
    "plt.title('Rozkład jądrowy liczby stron w książkach w zależności od kategorii')\n",
    "plt.xlabel('Liczba stron')\n",
    "plt.ylabel('Density')\n",
    "plt.legend()\n",
    "plt.show()"
   ]
  },
  {
   "cell_type": "code",
   "execution_count": 200,
   "metadata": {},
   "outputs": [
    {
     "data": {
      "text/plain": [
       "Index(['author', 'author_href', 'description', 'number_of_user_opinions',\n",
       "       'number_of_user_ratings', 'number_of_discussions', 'Kategoria',\n",
       "       'Format', 'Cykl', 'Tytuł oryginału', 'Wydawnictwo', 'Data wydania',\n",
       "       'Data 1. wyd. pol.', 'Data 1. wydania', 'Liczba stron', 'Czas czytania',\n",
       "       'Język', 'ISBN', 'Tłumacz', 'Ekranizacje', 'number_of_people_read',\n",
       "       'number_of_people_has', 'number_of_people_favorite',\n",
       "       'number_of_people_wants_to_read', 'number_of_people_wants_as_gift',\n",
       "       'number_of_people_currently_read', 'tags', 'rating_10', 'rating_9',\n",
       "       'rating_8', 'rating_7', 'rating_6', 'rating_5', 'rating_4', 'rating_3',\n",
       "       'rating_2', 'rating_1', 'url', 'Inne', 'author1', 'author_href1',\n",
       "       'Seria', 'author2', 'author_href2', 'author3', 'author_href3',\n",
       "       'author4', 'author_href4', 'author5', 'author_href5', 'author6',\n",
       "       'author_href6', 'author7', 'author_href7', 'author8', 'author_href8',\n",
       "       'author9', 'author_href9', 'author10', 'author_href10', 'author11',\n",
       "       'author_href11', 'author12', 'author_href12', 'author13',\n",
       "       'author_href13', 'author14', 'author_href14', 'author15',\n",
       "       'author_href15', 'author16', 'author_href16', 'author17',\n",
       "       'author_href17', 'author18', 'author_href18', 'average_rating'],\n",
       "      dtype='object')"
      ]
     },
     "execution_count": 200,
     "metadata": {},
     "output_type": "execute_result"
    }
   ],
   "source": [
    "existing_books_df.head().columns"
   ]
  }
 ],
 "metadata": {
  "kernelspec": {
   "display_name": "lubimyczytac",
   "language": "python",
   "name": "python3"
  },
  "language_info": {
   "codemirror_mode": {
    "name": "ipython",
    "version": 3
   },
   "file_extension": ".py",
   "mimetype": "text/x-python",
   "name": "python",
   "nbconvert_exporter": "python",
   "pygments_lexer": "ipython3",
   "version": "3.13.1"
  }
 },
 "nbformat": 4,
 "nbformat_minor": 2
}
