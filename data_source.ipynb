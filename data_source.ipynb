{
 "cells": [
  {
   "cell_type": "code",
   "execution_count": 18,
   "metadata": {},
   "outputs": [],
   "source": [
    "import json\n",
    "\n",
    "from bs4 import BeautifulSoup\n",
    "import requests\n",
    "\n",
    "from utils.paths import URL_CONFIG_PATH\n",
    "from utils.enums import URLS, SOUP\n",
    "\n",
    "from scraping.pages import scrape_books\n",
    "from scraping.session import get_session"
   ]
  },
  {
   "cell_type": "code",
   "execution_count": 8,
   "metadata": {},
   "outputs": [],
   "source": [
    "with open(URL_CONFIG_PATH) as url_config_file:\n",
    "    urls = json.load(url_config_file)"
   ]
  },
  {
   "cell_type": "code",
   "execution_count": 9,
   "metadata": {},
   "outputs": [],
   "source": [
    "session = get_session()"
   ]
  },
  {
   "cell_type": "code",
   "execution_count": 10,
   "metadata": {},
   "outputs": [],
   "source": [
    "books_urls = scrape_books(base_url=urls[URLS.BASE], page_url=urls[URLS.PAGE].format(step=1), session=session)"
   ]
  },
  {
   "cell_type": "code",
   "execution_count": 11,
   "metadata": {},
   "outputs": [
    {
     "data": {
      "text/plain": [
       "['https://lubimyczytac.pl/ksiazka/5103137/harry-potter-i-kamien-filozoficzny',\n",
       " 'https://lubimyczytac.pl/ksiazka/5103141/harry-potter-i-komnata-tajemnic',\n",
       " 'https://lubimyczytac.pl/ksiazka/5103140/harry-potter-i-wiezien-azkabanu',\n",
       " 'https://lubimyczytac.pl/ksiazka/5103135/harry-potter-i-czara-ognia',\n",
       " 'https://lubimyczytac.pl/ksiazka/5171240/maly-ksiaze',\n",
       " 'https://lubimyczytac.pl/ksiazka/10829/harry-potter-i-zakon-feniksa',\n",
       " 'https://lubimyczytac.pl/ksiazka/5103138/harry-potter-i-ksiaze-polkrwi',\n",
       " 'https://lubimyczytac.pl/ksiazka/5103142/harry-potter-i-insygnia-smierci',\n",
       " 'https://lubimyczytac.pl/ksiazka/5121473/hobbit-czyli-tam-i-z-powrotem',\n",
       " 'https://lubimyczytac.pl/ksiazka/5131218/1984',\n",
       " 'https://lubimyczytac.pl/ksiazka/5166174/mistrz-i-malgorzata',\n",
       " 'https://lubimyczytac.pl/ksiazka/240310/ostatnie-zyczenie',\n",
       " 'https://lubimyczytac.pl/ksiazka/4802748/cien-wiatru',\n",
       " 'https://lubimyczytac.pl/ksiazka/5090872/zmierzch-wydanie-specjalne',\n",
       " 'https://lubimyczytac.pl/ksiazka/5133188/igrzyska-smierci-wydanie-ilustrowane',\n",
       " 'https://lubimyczytac.pl/ksiazka/240512/krew-elfow',\n",
       " 'https://lubimyczytac.pl/ksiazka/27644/mezczyzni-ktorzy-nienawidza-kobiet',\n",
       " 'https://lubimyczytac.pl/ksiazka/5090419/kod-leonarda-da-vinci',\n",
       " 'https://lubimyczytac.pl/ksiazka/4953463/oskar-i-pani-roza',\n",
       " 'https://lubimyczytac.pl/ksiazka/240312/miecz-przeznaczenia',\n",
       " 'https://lubimyczytac.pl/ksiazka/5114422/gra-o-tron',\n",
       " 'https://lubimyczytac.pl/ksiazka/240513/czas-pogardy',\n",
       " 'https://lubimyczytac.pl/ksiazka/242780/piecdziesiat-twarzy-greya',\n",
       " 'https://lubimyczytac.pl/ksiazka/5104648/ksiezyc-w-nowiu-wydanie-specjalne',\n",
       " 'https://lubimyczytac.pl/ksiazka/240524/chrzest-ognia',\n",
       " 'https://lubimyczytac.pl/ksiazka/5165406/lalka',\n",
       " 'https://lubimyczytac.pl/ksiazka/47513/w-pierscieniu-ognia',\n",
       " 'https://lubimyczytac.pl/ksiazka/3766803/dziewczyna-z-pociagu',\n",
       " 'https://lubimyczytac.pl/ksiazka/5131226/folwark-zwierzecy',\n",
       " 'https://lubimyczytac.pl/ksiazka/4898544/ania-z-zielonego-wzgorza']"
      ]
     },
     "execution_count": 11,
     "metadata": {},
     "output_type": "execute_result"
    }
   ],
   "source": [
    "books_urls"
   ]
  },
  {
   "cell_type": "code",
   "execution_count": 13,
   "metadata": {},
   "outputs": [],
   "source": [
    "first_book = books_urls[0]"
   ]
  },
  {
   "cell_type": "code",
   "execution_count": 16,
   "metadata": {},
   "outputs": [],
   "source": [
    "book_html = session.get(first_book).text"
   ]
  },
  {
   "cell_type": "code",
   "execution_count": 26,
   "metadata": {},
   "outputs": [],
   "source": [
    "import re"
   ]
  },
  {
   "cell_type": "code",
   "execution_count": 89,
   "metadata": {},
   "outputs": [],
   "source": [
    "number_pattern = re.compile(r'\\d+')\n",
    "literal_pattern = re.compile(r'\\D+')"
   ]
  },
  {
   "cell_type": "code",
   "execution_count": 128,
   "metadata": {},
   "outputs": [],
   "source": [
    "book_html\n",
    "# author name and href to author page\n",
    "soup_book = BeautifulSoup(book_html, SOUP.HTML_PARSER)\n",
    "authors_html = soup_book.find_all('a', class_='link-name d-inline-block')\n",
    "authors_names = [author.text for author in authors_html]\n",
    "authors_hrefs = [author['href'] for author in authors_html]\n",
    "pages_html = soup_book.find('span', class_='d-sm-inline-block book-pages book__pages pr-2 mr-2 pr-sm-3 mr-sm-3')\n",
    "pages = int(re.search(number_pattern, pages_html.text).group())\n",
    "description_html = soup_book.find('div', class_='collapse-content')\n",
    "description = description_html.text\n",
    "user_stats_html = soup_book.find('div', class_='d-flex flex-wrap justify-content-around px-3')\n",
    "user_stats = user_stats_html.text\n",
    "number_of_user_opinions, number_of_user_ratings, number_of_discussions = list(map(int, re.findall(number_pattern, user_stats)))\n",
    "detitails_dict = dict(zip([element.text.strip() for element in soup_book.find_all('dt')], [element.text.strip() for element in soup_book.find_all('dd')]))\n",
    "on_the_shelf_dict_raw = {\n",
    "    re.search(literal_pattern, element.text).group().strip(): \"\".join(re.findall(number_pattern, element.text))\n",
    "    for element in soup_book.find_all('li', class_='list-group-item p-0')\n",
    "    }\n",
    "on_the_shelf_dict = {\n",
    "    'number_of_people_read': on_the_shelf_dict_raw['Przeczytane'],\n",
    "    'number_of_people_has': on_the_shelf_dict_raw['Posiadam'],\n",
    "    'number_of_people_favorite': on_the_shelf_dict_raw['Ulubione'],\n",
    "    'number_of_people_wants_to_read': on_the_shelf_dict_raw['Chcę przeczytać'],\n",
    "    'number_of_people_wants_as_gift': on_the_shelf_dict_raw['Chcę w prezencie'],\n",
    "    'number_of_people_currently_read': on_the_shelf_dict_raw['Teraz czytam']\n",
    "}\n",
    "tags = '&'.join([element.text.strip() for element in soup_book.find_all('a', class_='tag')])\n",
    "ratings_dict = {\n",
    "    f'rating_{element[\"data-rating\"]}': int(\"\".join(re.findall(number_pattern, element.text.strip())))\n",
    "    for element in soup_book.find_all('a', class_='chart-valuebtn btn-link--without-bold plusCountModal')\n",
    "    }"
   ]
  },
  {
   "cell_type": "code",
   "execution_count": 135,
   "metadata": {},
   "outputs": [
    {
     "data": {
      "text/plain": [
       "[]"
      ]
     },
     "execution_count": 135,
     "metadata": {},
     "output_type": "execute_result"
    }
   ],
   "source": [
    "soup_book.find_all('span', class_='buybox-offer__price')"
   ]
  }
 ],
 "metadata": {
  "kernelspec": {
   "display_name": "lubimyczytac",
   "language": "python",
   "name": "python3"
  },
  "language_info": {
   "codemirror_mode": {
    "name": "ipython",
    "version": 3
   },
   "file_extension": ".py",
   "mimetype": "text/x-python",
   "name": "python",
   "nbconvert_exporter": "python",
   "pygments_lexer": "ipython3",
   "version": "3.13.1"
  }
 },
 "nbformat": 4,
 "nbformat_minor": 2
}
