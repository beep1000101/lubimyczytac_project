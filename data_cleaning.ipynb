{
 "cells": [
  {
   "cell_type": "code",
   "execution_count": 81,
   "metadata": {},
   "outputs": [],
   "source": [
    "from string import ascii_letters\n",
    "\n",
    "import pandas as pd\n",
    "\n",
    "from utils.paths import BOOKS_PATH, AUTHORS_PATH"
   ]
  },
  {
   "cell_type": "code",
   "execution_count": 82,
   "metadata": {},
   "outputs": [
    {
     "name": "stderr",
     "output_type": "stream",
     "text": [
      "/tmp/ipykernel_102037/587830805.py:1: DtypeWarning: Columns (66,67,68,69,70,71,72,73,74,75) have mixed types. Specify dtype option on import or set low_memory=False.\n",
      "  books_df = pd.read_csv(BOOKS_PATH)\n"
     ]
    }
   ],
   "source": [
    "books_df = pd.read_csv(BOOKS_PATH)\n",
    "authors_df = pd.read_csv(AUTHORS_PATH)"
   ]
  },
  {
   "cell_type": "code",
   "execution_count": 83,
   "metadata": {},
   "outputs": [
    {
     "data": {
      "text/plain": [
       "0           https://lubimyczytac.pl/autor/3701/j-k-rowling\n",
       "1           https://lubimyczytac.pl/autor/3701/j-k-rowling\n",
       "2           https://lubimyczytac.pl/autor/3701/j-k-rowling\n",
       "3           https://lubimyczytac.pl/autor/3701/j-k-rowling\n",
       "4        https://lubimyczytac.pl/autor/14276/antoine-de...\n",
       "                               ...                        \n",
       "10015      https://lubimyczytac.pl/autor/230535/sally-page\n",
       "10016    https://lubimyczytac.pl/autor/115156/natalia-s...\n",
       "10017    https://lubimyczytac.pl/autor/20127/harry-harr...\n",
       "10018    https://lubimyczytac.pl/autor/153763/anna-ciar...\n",
       "10019    https://lubimyczytac.pl/autor/31358/arnaldur-i...\n",
       "Name: author_href, Length: 10020, dtype: object"
      ]
     },
     "execution_count": 83,
     "metadata": {},
     "output_type": "execute_result"
    }
   ],
   "source": [
    "books_df['author_href']"
   ]
  },
  {
   "cell_type": "code",
   "execution_count": 84,
   "metadata": {},
   "outputs": [
    {
     "data": {
      "text/plain": [
       "0          https://lubimyczytac.pl/autor/3701/j-k-rowling\n",
       "1       https://lubimyczytac.pl/autor/14276/antoine-de...\n",
       "2        https://lubimyczytac.pl/autor/3216/j-r-r-tolkien\n",
       "3       https://lubimyczytac.pl/autor/10474/george-orwell\n",
       "4       https://lubimyczytac.pl/autor/22701/michail-bu...\n",
       "                              ...                        \n",
       "3203    https://lubimyczytac.pl/autor/71329/david-r-ha...\n",
       "3204    https://lubimyczytac.pl/autor/41653/marek-racz...\n",
       "3205    https://lubimyczytac.pl/autor/30146/william-irwin\n",
       "3206    https://lubimyczytac.pl/autor/33931/thomas-pyn...\n",
       "3207      https://lubimyczytac.pl/autor/230535/sally-page\n",
       "Name: author_url, Length: 3208, dtype: object"
      ]
     },
     "execution_count": 84,
     "metadata": {},
     "output_type": "execute_result"
    }
   ],
   "source": [
    "authors_df['author_url']"
   ]
  },
  {
   "cell_type": "code",
   "execution_count": 85,
   "metadata": {},
   "outputs": [],
   "source": [
    "data_df = books_df.join(authors_df.set_index('author_url'), on='author_href', how='inner')"
   ]
  },
  {
   "cell_type": "code",
   "execution_count": 86,
   "metadata": {},
   "outputs": [
    {
     "data": {
      "text/plain": [
       "array([1, 2, 3, 4, 5, 6, 7, 0, 8, 9])"
      ]
     },
     "execution_count": 86,
     "metadata": {},
     "output_type": "execute_result"
    }
   ],
   "source": [
    "# check if cycles always end with <cycle name> (<string> <number>)\n",
    "data_df['Cykl'].dropna().str.extract(r'(\\d)+').fillna(0).astype(int)[0].unique()"
   ]
  },
  {
   "cell_type": "code",
   "execution_count": 87,
   "metadata": {},
   "outputs": [],
   "source": [
    "data_df['part_of_cycle'] = data_df['Cykl'].str.extract(r'(\\d)+').fillna(0).astype(int)[0]"
   ]
  },
  {
   "cell_type": "code",
   "execution_count": 88,
   "metadata": {},
   "outputs": [
    {
     "data": {
      "text/plain": [
       "9917    9\n",
       "1982    9\n",
       "7678    9\n",
       "Name: part_of_cycle, dtype: int64"
      ]
     },
     "execution_count": 88,
     "metadata": {},
     "output_type": "execute_result"
    }
   ],
   "source": [
    "data_df['part_of_cycle'].sort_values(ascending=False)[:3]"
   ]
  },
  {
   "cell_type": "code",
   "execution_count": 89,
   "metadata": {},
   "outputs": [
    {
     "data": {
      "text/html": [
       "<div>\n",
       "<style scoped>\n",
       "    .dataframe tbody tr th:only-of-type {\n",
       "        vertical-align: middle;\n",
       "    }\n",
       "\n",
       "    .dataframe tbody tr th {\n",
       "        vertical-align: top;\n",
       "    }\n",
       "\n",
       "    .dataframe thead th {\n",
       "        text-align: right;\n",
       "    }\n",
       "</style>\n",
       "<table border=\"1\" class=\"dataframe\">\n",
       "  <thead>\n",
       "    <tr style=\"text-align: right;\">\n",
       "      <th></th>\n",
       "      <th>author</th>\n",
       "      <th>author_href</th>\n",
       "      <th>description</th>\n",
       "      <th>number_of_user_opinions</th>\n",
       "      <th>number_of_user_ratings</th>\n",
       "      <th>number_of_discussions</th>\n",
       "      <th>Kategoria</th>\n",
       "      <th>Format</th>\n",
       "      <th>Cykl</th>\n",
       "      <th>Tytuł oryginału</th>\n",
       "      <th>...</th>\n",
       "      <th>author_href18</th>\n",
       "      <th>author_name</th>\n",
       "      <th>author_average_rating</th>\n",
       "      <th>author_number_of_people_read</th>\n",
       "      <th>author_number_of_people_wants_to_read</th>\n",
       "      <th>author_date_of_birth</th>\n",
       "      <th>author_number_of_fans</th>\n",
       "      <th>author_number_of_books_written</th>\n",
       "      <th>author_number_of_awards</th>\n",
       "      <th>part_of_cycle</th>\n",
       "    </tr>\n",
       "  </thead>\n",
       "  <tbody>\n",
       "    <tr>\n",
       "      <th>9917</th>\n",
       "      <td>Robert Muchamore</td>\n",
       "      <td>https://lubimyczytac.pl/autor/6291/robert-much...</td>\n",
       "      <td>9 tom popularnej serii Cherub opowiadającej o...</td>\n",
       "      <td>22</td>\n",
       "      <td>555</td>\n",
       "      <td>0</td>\n",
       "      <td>kryminał, sensacja, thriller</td>\n",
       "      <td>papier</td>\n",
       "      <td>CHERUB (tom 9)</td>\n",
       "      <td>The Sleepwalker</td>\n",
       "      <td>...</td>\n",
       "      <td>NaN</td>\n",
       "      <td>Robert Muchamore</td>\n",
       "      <td>7.6</td>\n",
       "      <td>2361</td>\n",
       "      <td>4420</td>\n",
       "      <td>25.12.1972</td>\n",
       "      <td>221</td>\n",
       "      <td>34</td>\n",
       "      <td>0</td>\n",
       "      <td>9</td>\n",
       "    </tr>\n",
       "    <tr>\n",
       "      <th>1982</th>\n",
       "      <td>Agatha Christie</td>\n",
       "      <td>https://lubimyczytac.pl/autor/14083/agatha-chr...</td>\n",
       "      <td>Panna Marple, dzięki hojności swego siostrzeń...</td>\n",
       "      <td>172</td>\n",
       "      <td>2445</td>\n",
       "      <td>0</td>\n",
       "      <td>kryminał, sensacja, thriller</td>\n",
       "      <td>papier</td>\n",
       "      <td>Panna Marple (tom 9)</td>\n",
       "      <td>A Caribbean mistery</td>\n",
       "      <td>...</td>\n",
       "      <td>NaN</td>\n",
       "      <td>Agatha Christie</td>\n",
       "      <td>7.0</td>\n",
       "      <td>58293</td>\n",
       "      <td>132793</td>\n",
       "      <td>15.09.1890</td>\n",
       "      <td>6416</td>\n",
       "      <td>186</td>\n",
       "      <td>0</td>\n",
       "      <td>9</td>\n",
       "    </tr>\n",
       "    <tr>\n",
       "      <th>7678</th>\n",
       "      <td>Katarzyna Bonda</td>\n",
       "      <td>https://lubimyczytac.pl/autor/14572/katarzyna-...</td>\n",
       "      <td>Co sprawiło, że w chorym umyśle zrodził się p...</td>\n",
       "      <td>165</td>\n",
       "      <td>741</td>\n",
       "      <td>0</td>\n",
       "      <td>kryminał, sensacja, thriller</td>\n",
       "      <td>papier</td>\n",
       "      <td>Hubert Meyer (tom 9)</td>\n",
       "      <td>NaN</td>\n",
       "      <td>...</td>\n",
       "      <td>NaN</td>\n",
       "      <td>Katarzyna Bonda</td>\n",
       "      <td>6.9</td>\n",
       "      <td>31880</td>\n",
       "      <td>39022</td>\n",
       "      <td>przybliżona)</td>\n",
       "      <td>1908</td>\n",
       "      <td>43</td>\n",
       "      <td>0</td>\n",
       "      <td>9</td>\n",
       "    </tr>\n",
       "  </tbody>\n",
       "</table>\n",
       "<p>3 rows × 85 columns</p>\n",
       "</div>"
      ],
      "text/plain": [
       "                author                                        author_href  \\\n",
       "9917  Robert Muchamore  https://lubimyczytac.pl/autor/6291/robert-much...   \n",
       "1982   Agatha Christie  https://lubimyczytac.pl/autor/14083/agatha-chr...   \n",
       "7678   Katarzyna Bonda  https://lubimyczytac.pl/autor/14572/katarzyna-...   \n",
       "\n",
       "                                            description  \\\n",
       "9917   9 tom popularnej serii Cherub opowiadającej o...   \n",
       "1982   Panna Marple, dzięki hojności swego siostrzeń...   \n",
       "7678   Co sprawiło, że w chorym umyśle zrodził się p...   \n",
       "\n",
       "      number_of_user_opinions  number_of_user_ratings  number_of_discussions  \\\n",
       "9917                       22                     555                      0   \n",
       "1982                      172                    2445                      0   \n",
       "7678                      165                     741                      0   \n",
       "\n",
       "                         Kategoria  Format                  Cykl  \\\n",
       "9917  kryminał, sensacja, thriller  papier        CHERUB (tom 9)   \n",
       "1982  kryminał, sensacja, thriller  papier  Panna Marple (tom 9)   \n",
       "7678  kryminał, sensacja, thriller  papier  Hubert Meyer (tom 9)   \n",
       "\n",
       "          Tytuł oryginału  ... author_href18       author_name  \\\n",
       "9917      The Sleepwalker  ...           NaN  Robert Muchamore   \n",
       "1982  A Caribbean mistery  ...           NaN   Agatha Christie   \n",
       "7678                  NaN  ...           NaN   Katarzyna Bonda   \n",
       "\n",
       "     author_average_rating author_number_of_people_read  \\\n",
       "9917                   7.6                         2361   \n",
       "1982                   7.0                        58293   \n",
       "7678                   6.9                        31880   \n",
       "\n",
       "      author_number_of_people_wants_to_read author_date_of_birth  \\\n",
       "9917                                   4420           25.12.1972   \n",
       "1982                                 132793           15.09.1890   \n",
       "7678                                  39022         przybliżona)   \n",
       "\n",
       "     author_number_of_fans author_number_of_books_written  \\\n",
       "9917                   221                             34   \n",
       "1982                  6416                            186   \n",
       "7678                  1908                             43   \n",
       "\n",
       "     author_number_of_awards part_of_cycle  \n",
       "9917                       0             9  \n",
       "1982                       0             9  \n",
       "7678                       0             9  \n",
       "\n",
       "[3 rows x 85 columns]"
      ]
     },
     "execution_count": 89,
     "metadata": {},
     "output_type": "execute_result"
    }
   ],
   "source": [
    "data_df.loc[data_df['part_of_cycle'].sort_values(ascending=False)[:3].index, :]"
   ]
  },
  {
   "cell_type": "code",
   "execution_count": 90,
   "metadata": {},
   "outputs": [],
   "source": [
    "# drop records without number of pages\n",
    "data_df = data_df.dropna(subset=['Liczba stron'])"
   ]
  },
  {
   "cell_type": "code",
   "execution_count": 91,
   "metadata": {},
   "outputs": [],
   "source": [
    "numeric_columns = data_df.select_dtypes(include='number').columns"
   ]
  },
  {
   "cell_type": "code",
   "execution_count": 92,
   "metadata": {},
   "outputs": [],
   "source": [
    "float_columns = 'author_average_rating'\n",
    "integer_columns = numeric_columns.drop(float_columns)"
   ]
  },
  {
   "cell_type": "code",
   "execution_count": 93,
   "metadata": {},
   "outputs": [],
   "source": [
    "# integer cols where there is nans\n",
    "data_df.loc[:, integer_columns] = data_df.loc[:, integer_columns].fillna(0).astype(int)"
   ]
  },
  {
   "cell_type": "code",
   "execution_count": 94,
   "metadata": {},
   "outputs": [
    {
     "data": {
      "text/html": [
       "<div>\n",
       "<style scoped>\n",
       "    .dataframe tbody tr th:only-of-type {\n",
       "        vertical-align: middle;\n",
       "    }\n",
       "\n",
       "    .dataframe tbody tr th {\n",
       "        vertical-align: top;\n",
       "    }\n",
       "\n",
       "    .dataframe thead th {\n",
       "        text-align: right;\n",
       "    }\n",
       "</style>\n",
       "<table border=\"1\" class=\"dataframe\">\n",
       "  <thead>\n",
       "    <tr style=\"text-align: right;\">\n",
       "      <th></th>\n",
       "      <th>number_of_user_opinions</th>\n",
       "      <th>number_of_user_ratings</th>\n",
       "      <th>number_of_discussions</th>\n",
       "      <th>Liczba stron</th>\n",
       "      <th>number_of_people_read</th>\n",
       "      <th>number_of_people_has</th>\n",
       "      <th>number_of_people_favorite</th>\n",
       "      <th>number_of_people_wants_to_read</th>\n",
       "      <th>number_of_people_wants_as_gift</th>\n",
       "      <th>number_of_people_currently_read</th>\n",
       "      <th>...</th>\n",
       "      <th>rating_4</th>\n",
       "      <th>rating_3</th>\n",
       "      <th>rating_2</th>\n",
       "      <th>rating_1</th>\n",
       "      <th>author_number_of_people_read</th>\n",
       "      <th>author_number_of_people_wants_to_read</th>\n",
       "      <th>author_number_of_fans</th>\n",
       "      <th>author_number_of_books_written</th>\n",
       "      <th>author_number_of_awards</th>\n",
       "      <th>part_of_cycle</th>\n",
       "    </tr>\n",
       "  </thead>\n",
       "  <tbody>\n",
       "    <tr>\n",
       "      <th>0</th>\n",
       "      <td>5156</td>\n",
       "      <td>85009</td>\n",
       "      <td>1</td>\n",
       "      <td>320.0</td>\n",
       "      <td>124692</td>\n",
       "      <td>30249</td>\n",
       "      <td>11410.0</td>\n",
       "      <td>6210</td>\n",
       "      <td>990.0</td>\n",
       "      <td>849.0</td>\n",
       "      <td>...</td>\n",
       "      <td>501</td>\n",
       "      <td>490</td>\n",
       "      <td>67</td>\n",
       "      <td>145</td>\n",
       "      <td>130174</td>\n",
       "      <td>75668</td>\n",
       "      <td>11479</td>\n",
       "      <td>40</td>\n",
       "      <td>1</td>\n",
       "      <td>1</td>\n",
       "    </tr>\n",
       "    <tr>\n",
       "      <th>1</th>\n",
       "      <td>2305</td>\n",
       "      <td>70818</td>\n",
       "      <td>0</td>\n",
       "      <td>356.0</td>\n",
       "      <td>105466</td>\n",
       "      <td>25003</td>\n",
       "      <td>8972.0</td>\n",
       "      <td>4535</td>\n",
       "      <td>883.0</td>\n",
       "      <td>501.0</td>\n",
       "      <td>...</td>\n",
       "      <td>345</td>\n",
       "      <td>404</td>\n",
       "      <td>26</td>\n",
       "      <td>67</td>\n",
       "      <td>130174</td>\n",
       "      <td>75668</td>\n",
       "      <td>11479</td>\n",
       "      <td>40</td>\n",
       "      <td>1</td>\n",
       "      <td>2</td>\n",
       "    </tr>\n",
       "    <tr>\n",
       "      <th>2</th>\n",
       "      <td>2241</td>\n",
       "      <td>67918</td>\n",
       "      <td>0</td>\n",
       "      <td>456.0</td>\n",
       "      <td>101297</td>\n",
       "      <td>23587</td>\n",
       "      <td>10242.0</td>\n",
       "      <td>5041</td>\n",
       "      <td>938.0</td>\n",
       "      <td>463.0</td>\n",
       "      <td>...</td>\n",
       "      <td>200</td>\n",
       "      <td>235</td>\n",
       "      <td>20</td>\n",
       "      <td>46</td>\n",
       "      <td>130174</td>\n",
       "      <td>75668</td>\n",
       "      <td>11479</td>\n",
       "      <td>40</td>\n",
       "      <td>1</td>\n",
       "      <td>3</td>\n",
       "    </tr>\n",
       "    <tr>\n",
       "      <th>3</th>\n",
       "      <td>1892</td>\n",
       "      <td>64439</td>\n",
       "      <td>0</td>\n",
       "      <td>764.0</td>\n",
       "      <td>96528</td>\n",
       "      <td>22705</td>\n",
       "      <td>9109.0</td>\n",
       "      <td>5211</td>\n",
       "      <td>971.0</td>\n",
       "      <td>632.0</td>\n",
       "      <td>...</td>\n",
       "      <td>244</td>\n",
       "      <td>274</td>\n",
       "      <td>27</td>\n",
       "      <td>55</td>\n",
       "      <td>130174</td>\n",
       "      <td>75668</td>\n",
       "      <td>11479</td>\n",
       "      <td>40</td>\n",
       "      <td>1</td>\n",
       "      <td>4</td>\n",
       "    </tr>\n",
       "    <tr>\n",
       "      <th>4</th>\n",
       "      <td>4264</td>\n",
       "      <td>63437</td>\n",
       "      <td>0</td>\n",
       "      <td>144.0</td>\n",
       "      <td>91987</td>\n",
       "      <td>16084</td>\n",
       "      <td>7102.0</td>\n",
       "      <td>3781</td>\n",
       "      <td>536.0</td>\n",
       "      <td>312.0</td>\n",
       "      <td>...</td>\n",
       "      <td>1040</td>\n",
       "      <td>1139</td>\n",
       "      <td>335</td>\n",
       "      <td>428</td>\n",
       "      <td>87296</td>\n",
       "      <td>8410</td>\n",
       "      <td>681</td>\n",
       "      <td>42</td>\n",
       "      <td>0</td>\n",
       "      <td>0</td>\n",
       "    </tr>\n",
       "    <tr>\n",
       "      <th>...</th>\n",
       "      <td>...</td>\n",
       "      <td>...</td>\n",
       "      <td>...</td>\n",
       "      <td>...</td>\n",
       "      <td>...</td>\n",
       "      <td>...</td>\n",
       "      <td>...</td>\n",
       "      <td>...</td>\n",
       "      <td>...</td>\n",
       "      <td>...</td>\n",
       "      <td>...</td>\n",
       "      <td>...</td>\n",
       "      <td>...</td>\n",
       "      <td>...</td>\n",
       "      <td>...</td>\n",
       "      <td>...</td>\n",
       "      <td>...</td>\n",
       "      <td>...</td>\n",
       "      <td>...</td>\n",
       "      <td>...</td>\n",
       "      <td>...</td>\n",
       "    </tr>\n",
       "    <tr>\n",
       "      <th>10015</th>\n",
       "      <td>154</td>\n",
       "      <td>573</td>\n",
       "      <td>1</td>\n",
       "      <td>352.0</td>\n",
       "      <td>637</td>\n",
       "      <td>124</td>\n",
       "      <td>9.0</td>\n",
       "      <td>558</td>\n",
       "      <td>0.0</td>\n",
       "      <td>17.0</td>\n",
       "      <td>...</td>\n",
       "      <td>16</td>\n",
       "      <td>10</td>\n",
       "      <td>3</td>\n",
       "      <td>3</td>\n",
       "      <td>638</td>\n",
       "      <td>559</td>\n",
       "      <td>5</td>\n",
       "      <td>2</td>\n",
       "      <td>0</td>\n",
       "      <td>0</td>\n",
       "    </tr>\n",
       "    <tr>\n",
       "      <th>10016</th>\n",
       "      <td>138</td>\n",
       "      <td>573</td>\n",
       "      <td>0</td>\n",
       "      <td>352.0</td>\n",
       "      <td>711</td>\n",
       "      <td>119</td>\n",
       "      <td>19.0</td>\n",
       "      <td>282</td>\n",
       "      <td>0.0</td>\n",
       "      <td>0.0</td>\n",
       "      <td>...</td>\n",
       "      <td>11</td>\n",
       "      <td>7</td>\n",
       "      <td>2</td>\n",
       "      <td>0</td>\n",
       "      <td>6924</td>\n",
       "      <td>12208</td>\n",
       "      <td>370</td>\n",
       "      <td>42</td>\n",
       "      <td>0</td>\n",
       "      <td>5</td>\n",
       "    </tr>\n",
       "    <tr>\n",
       "      <th>10017</th>\n",
       "      <td>90</td>\n",
       "      <td>546</td>\n",
       "      <td>0</td>\n",
       "      <td>288.0</td>\n",
       "      <td>708</td>\n",
       "      <td>273</td>\n",
       "      <td>18.0</td>\n",
       "      <td>682</td>\n",
       "      <td>0.0</td>\n",
       "      <td>10.0</td>\n",
       "      <td>...</td>\n",
       "      <td>15</td>\n",
       "      <td>10</td>\n",
       "      <td>0</td>\n",
       "      <td>3</td>\n",
       "      <td>3431</td>\n",
       "      <td>6316</td>\n",
       "      <td>133</td>\n",
       "      <td>99</td>\n",
       "      <td>0</td>\n",
       "      <td>0</td>\n",
       "    </tr>\n",
       "    <tr>\n",
       "      <th>10018</th>\n",
       "      <td>94</td>\n",
       "      <td>558</td>\n",
       "      <td>0</td>\n",
       "      <td>302.0</td>\n",
       "      <td>719</td>\n",
       "      <td>232</td>\n",
       "      <td>26.0</td>\n",
       "      <td>686</td>\n",
       "      <td>11.0</td>\n",
       "      <td>18.0</td>\n",
       "      <td>...</td>\n",
       "      <td>34</td>\n",
       "      <td>31</td>\n",
       "      <td>20</td>\n",
       "      <td>13</td>\n",
       "      <td>4313</td>\n",
       "      <td>4458</td>\n",
       "      <td>58</td>\n",
       "      <td>5</td>\n",
       "      <td>0</td>\n",
       "      <td>0</td>\n",
       "    </tr>\n",
       "    <tr>\n",
       "      <th>10019</th>\n",
       "      <td>90</td>\n",
       "      <td>568</td>\n",
       "      <td>0</td>\n",
       "      <td>320.0</td>\n",
       "      <td>731</td>\n",
       "      <td>129</td>\n",
       "      <td>0.0</td>\n",
       "      <td>484</td>\n",
       "      <td>0.0</td>\n",
       "      <td>8.0</td>\n",
       "      <td>...</td>\n",
       "      <td>18</td>\n",
       "      <td>7</td>\n",
       "      <td>3</td>\n",
       "      <td>2</td>\n",
       "      <td>3171</td>\n",
       "      <td>4523</td>\n",
       "      <td>203</td>\n",
       "      <td>18</td>\n",
       "      <td>0</td>\n",
       "      <td>8</td>\n",
       "    </tr>\n",
       "  </tbody>\n",
       "</table>\n",
       "<p>9738 rows × 26 columns</p>\n",
       "</div>"
      ],
      "text/plain": [
       "       number_of_user_opinions  number_of_user_ratings  number_of_discussions  \\\n",
       "0                         5156                   85009                      1   \n",
       "1                         2305                   70818                      0   \n",
       "2                         2241                   67918                      0   \n",
       "3                         1892                   64439                      0   \n",
       "4                         4264                   63437                      0   \n",
       "...                        ...                     ...                    ...   \n",
       "10015                      154                     573                      1   \n",
       "10016                      138                     573                      0   \n",
       "10017                       90                     546                      0   \n",
       "10018                       94                     558                      0   \n",
       "10019                       90                     568                      0   \n",
       "\n",
       "       Liczba stron  number_of_people_read  number_of_people_has  \\\n",
       "0             320.0                 124692                 30249   \n",
       "1             356.0                 105466                 25003   \n",
       "2             456.0                 101297                 23587   \n",
       "3             764.0                  96528                 22705   \n",
       "4             144.0                  91987                 16084   \n",
       "...             ...                    ...                   ...   \n",
       "10015         352.0                    637                   124   \n",
       "10016         352.0                    711                   119   \n",
       "10017         288.0                    708                   273   \n",
       "10018         302.0                    719                   232   \n",
       "10019         320.0                    731                   129   \n",
       "\n",
       "       number_of_people_favorite  number_of_people_wants_to_read  \\\n",
       "0                        11410.0                            6210   \n",
       "1                         8972.0                            4535   \n",
       "2                        10242.0                            5041   \n",
       "3                         9109.0                            5211   \n",
       "4                         7102.0                            3781   \n",
       "...                          ...                             ...   \n",
       "10015                        9.0                             558   \n",
       "10016                       19.0                             282   \n",
       "10017                       18.0                             682   \n",
       "10018                       26.0                             686   \n",
       "10019                        0.0                             484   \n",
       "\n",
       "       number_of_people_wants_as_gift  number_of_people_currently_read  ...  \\\n",
       "0                               990.0                            849.0  ...   \n",
       "1                               883.0                            501.0  ...   \n",
       "2                               938.0                            463.0  ...   \n",
       "3                               971.0                            632.0  ...   \n",
       "4                               536.0                            312.0  ...   \n",
       "...                               ...                              ...  ...   \n",
       "10015                             0.0                             17.0  ...   \n",
       "10016                             0.0                              0.0  ...   \n",
       "10017                             0.0                             10.0  ...   \n",
       "10018                            11.0                             18.0  ...   \n",
       "10019                             0.0                              8.0  ...   \n",
       "\n",
       "       rating_4  rating_3  rating_2  rating_1  author_number_of_people_read  \\\n",
       "0           501       490        67       145                        130174   \n",
       "1           345       404        26        67                        130174   \n",
       "2           200       235        20        46                        130174   \n",
       "3           244       274        27        55                        130174   \n",
       "4          1040      1139       335       428                         87296   \n",
       "...         ...       ...       ...       ...                           ...   \n",
       "10015        16        10         3         3                           638   \n",
       "10016        11         7         2         0                          6924   \n",
       "10017        15        10         0         3                          3431   \n",
       "10018        34        31        20        13                          4313   \n",
       "10019        18         7         3         2                          3171   \n",
       "\n",
       "       author_number_of_people_wants_to_read  author_number_of_fans  \\\n",
       "0                                      75668                  11479   \n",
       "1                                      75668                  11479   \n",
       "2                                      75668                  11479   \n",
       "3                                      75668                  11479   \n",
       "4                                       8410                    681   \n",
       "...                                      ...                    ...   \n",
       "10015                                    559                      5   \n",
       "10016                                  12208                    370   \n",
       "10017                                   6316                    133   \n",
       "10018                                   4458                     58   \n",
       "10019                                   4523                    203   \n",
       "\n",
       "       author_number_of_books_written  author_number_of_awards  part_of_cycle  \n",
       "0                                  40                        1              1  \n",
       "1                                  40                        1              2  \n",
       "2                                  40                        1              3  \n",
       "3                                  40                        1              4  \n",
       "4                                  42                        0              0  \n",
       "...                               ...                      ...            ...  \n",
       "10015                               2                        0              0  \n",
       "10016                              42                        0              5  \n",
       "10017                              99                        0              0  \n",
       "10018                               5                        0              0  \n",
       "10019                              18                        0              8  \n",
       "\n",
       "[9738 rows x 26 columns]"
      ]
     },
     "execution_count": 94,
     "metadata": {},
     "output_type": "execute_result"
    }
   ],
   "source": [
    "data_df[integer_columns]"
   ]
  },
  {
   "cell_type": "markdown",
   "metadata": {},
   "source": [
    "# imputacja tytulow"
   ]
  },
  {
   "cell_type": "code",
   "execution_count": 95,
   "metadata": {},
   "outputs": [
    {
     "data": {
      "text/plain": [
       "Index(['author', 'author_href', 'description', 'number_of_user_opinions',\n",
       "       'number_of_user_ratings', 'number_of_discussions', 'Kategoria',\n",
       "       'Format', 'Cykl', 'Tytuł oryginału', 'Wydawnictwo', 'Data wydania',\n",
       "       'Data 1. wyd. pol.', 'Data 1. wydania', 'Liczba stron', 'Czas czytania',\n",
       "       'Język', 'ISBN', 'Tłumacz', 'Ekranizacje', 'number_of_people_read',\n",
       "       'number_of_people_has', 'number_of_people_favorite',\n",
       "       'number_of_people_wants_to_read', 'number_of_people_wants_as_gift',\n",
       "       'number_of_people_currently_read', 'tags', 'rating_10', 'rating_9',\n",
       "       'rating_8', 'rating_7', 'rating_6', 'rating_5', 'rating_4', 'rating_3',\n",
       "       'rating_2', 'rating_1', 'url', 'Inne', 'author1', 'author_href1',\n",
       "       'Seria', 'author2', 'author_href2', 'author3', 'author_href3',\n",
       "       'author4', 'author_href4', 'author5', 'author_href5', 'author6',\n",
       "       'author_href6', 'author7', 'author_href7', 'author8', 'author_href8',\n",
       "       'author9', 'author_href9', 'author10', 'author_href10', 'author11',\n",
       "       'author_href11', 'author12', 'author_href12', 'author13',\n",
       "       'author_href13', 'author14', 'author_href14', 'author15',\n",
       "       'author_href15', 'author16', 'author_href16', 'author17',\n",
       "       'author_href17', 'author18', 'author_href18', 'author_name',\n",
       "       'author_average_rating', 'author_number_of_people_read',\n",
       "       'author_number_of_people_wants_to_read', 'author_date_of_birth',\n",
       "       'author_number_of_fans', 'author_number_of_books_written',\n",
       "       'author_number_of_awards', 'part_of_cycle'],\n",
       "      dtype='object')"
      ]
     },
     "execution_count": 95,
     "metadata": {},
     "output_type": "execute_result"
    }
   ],
   "source": [
    "data_df.columns"
   ]
  },
  {
   "cell_type": "code",
   "execution_count": 96,
   "metadata": {},
   "outputs": [],
   "source": [
    "missing_title = data_df['Tytuł oryginału'].isna()"
   ]
  },
  {
   "cell_type": "code",
   "execution_count": 97,
   "metadata": {},
   "outputs": [],
   "source": [
    "data_df.loc[missing_title, 'Tytuł oryginału'] = data_df.loc[missing_title, 'url'].str.split('/').str[-1].str.split('-').str.join(' ').str.title()"
   ]
  },
  {
   "cell_type": "code",
   "execution_count": 98,
   "metadata": {},
   "outputs": [
    {
     "data": {
      "text/plain": [
       "0        1\n",
       "1        2\n",
       "2        3\n",
       "3        4\n",
       "4        0\n",
       "        ..\n",
       "10015    0\n",
       "10016    5\n",
       "10017    0\n",
       "10018    0\n",
       "10019    8\n",
       "Name: part_of_cycle, Length: 9738, dtype: int64"
      ]
     },
     "execution_count": 98,
     "metadata": {},
     "output_type": "execute_result"
    }
   ],
   "source": [
    "data_df['part_of_cycle']"
   ]
  },
  {
   "cell_type": "markdown",
   "metadata": {},
   "source": [
    "# cleaning"
   ]
  },
  {
   "cell_type": "code",
   "execution_count": 99,
   "metadata": {},
   "outputs": [
    {
     "data": {
      "text/plain": [
       "Index(['author', 'author_href', 'description', 'number_of_user_opinions',\n",
       "       'number_of_user_ratings', 'number_of_discussions', 'Kategoria',\n",
       "       'Format', 'Cykl', 'Tytuł oryginału', 'Wydawnictwo', 'Data wydania',\n",
       "       'Data 1. wyd. pol.', 'Data 1. wydania', 'Liczba stron', 'Czas czytania',\n",
       "       'Język', 'ISBN', 'Tłumacz', 'Ekranizacje', 'number_of_people_read',\n",
       "       'number_of_people_has', 'number_of_people_favorite',\n",
       "       'number_of_people_wants_to_read', 'number_of_people_wants_as_gift',\n",
       "       'number_of_people_currently_read', 'tags', 'rating_10', 'rating_9',\n",
       "       'rating_8', 'rating_7', 'rating_6', 'rating_5', 'rating_4', 'rating_3',\n",
       "       'rating_2', 'rating_1', 'url', 'Inne', 'author1', 'author_href1',\n",
       "       'Seria', 'author2', 'author_href2', 'author3', 'author_href3',\n",
       "       'author4', 'author_href4', 'author5', 'author_href5', 'author6',\n",
       "       'author_href6', 'author7', 'author_href7', 'author8', 'author_href8',\n",
       "       'author9', 'author_href9', 'author10', 'author_href10', 'author11',\n",
       "       'author_href11', 'author12', 'author_href12', 'author13',\n",
       "       'author_href13', 'author14', 'author_href14', 'author15',\n",
       "       'author_href15', 'author16', 'author_href16', 'author17',\n",
       "       'author_href17', 'author18', 'author_href18', 'author_name',\n",
       "       'author_average_rating', 'author_number_of_people_read',\n",
       "       'author_number_of_people_wants_to_read', 'author_date_of_birth',\n",
       "       'author_number_of_fans', 'author_number_of_books_written',\n",
       "       'author_number_of_awards', 'part_of_cycle'],\n",
       "      dtype='object')"
      ]
     },
     "execution_count": 99,
     "metadata": {},
     "output_type": "execute_result"
    }
   ],
   "source": [
    "data_df.columns"
   ]
  },
  {
   "cell_type": "markdown",
   "metadata": {},
   "source": [
    "## author quantitative features:\n",
    "author_average_rating\n",
    "author_number_of_people_read\n",
    "author_number_of_people_wants_to_read\n",
    "author_date_of_birth ?\n",
    "author_number_of_fans\n",
    "author_number_of_books_written\n",
    "author_number_of_awards\n",
    "## book quantitative features\n",
    "description_length (engineered)\n",
    "number_of_user_opinions\n",
    "number_of_user_ratings\n",
    "number_of_discussions\n",
    "number_of_people_read\n",
    "Data wydania\n",
    "Liczba stron\n",
    "## book qualitative features\n",
    "Kategoria\n",
    "part_of_cycle (engineered)\n",
    "Język\n",
    "number_of_people_has\n",
    "number_of_people_favorite\n",
    "number_of_people_wants_to_read\n",
    "number_of_people_wants_as_gift\n",
    "number_of_people_currently_read"
   ]
  },
  {
   "cell_type": "code",
   "execution_count": 100,
   "metadata": {},
   "outputs": [],
   "source": [
    "author_quant_features = [\n",
    "    \"author_average_rating\",\n",
    "    \"author_number_of_people_read\",\n",
    "    \"author_number_of_people_wants_to_read\",\n",
    "    \"author_date_of_birth\",  # Możliwe, że wymaga dodatkowego przetworzenia\n",
    "    \"author_number_of_fans\",\n",
    "    \"author_number_of_books_written\",\n",
    "    \"author_number_of_awards\"\n",
    "]\n",
    "\n",
    "# Cechy ilościowe związane z książką\n",
    "book_quant_features = [\n",
    "    \"number_of_user_opinions\",\n",
    "    \"number_of_user_ratings\",\n",
    "    \"number_of_discussions\",\n",
    "    \"number_of_people_read\",\n",
    "    \"Data wydania\",  # to be transformed\n",
    "    \"Liczba stron\",\n",
    "    \"Cykl\"\n",
    "] + [f'rating_{i}' for i in range(1, 11)]\n",
    "\n",
    "# Cechy jakościowe związane z książką\n",
    "book_qual_features = [\n",
    "    \"Kategoria\",\n",
    "    \"part_of_cycle\",  # engineered\n",
    "    \"Język\",\n",
    "    \"number_of_people_has\",\n",
    "    \"number_of_people_favorite\",\n",
    "    \"number_of_people_wants_to_read\",\n",
    "    \"number_of_people_wants_as_gift\",\n",
    "    \"number_of_people_currently_read\"\n",
    "]"
   ]
  },
  {
   "cell_type": "code",
   "execution_count": 101,
   "metadata": {},
   "outputs": [],
   "source": [
    "all_features = author_quant_features + book_quant_features + book_qual_features"
   ]
  },
  {
   "cell_type": "code",
   "execution_count": 102,
   "metadata": {},
   "outputs": [
    {
     "data": {
      "text/plain": [
       "Index(['author_average_rating', 'author_number_of_people_read',\n",
       "       'author_number_of_people_wants_to_read', 'author_date_of_birth',\n",
       "       'author_number_of_fans', 'author_number_of_books_written',\n",
       "       'author_number_of_awards', 'number_of_user_opinions',\n",
       "       'number_of_user_ratings', 'number_of_discussions',\n",
       "       'number_of_people_read', 'Data wydania', 'Liczba stron', 'Cykl',\n",
       "       'rating_1', 'rating_2', 'rating_3', 'rating_4', 'rating_5', 'rating_6',\n",
       "       'rating_7', 'rating_8', 'rating_9', 'rating_10', 'Kategoria',\n",
       "       'part_of_cycle', 'Język', 'number_of_people_has',\n",
       "       'number_of_people_favorite', 'number_of_people_wants_to_read',\n",
       "       'number_of_people_wants_as_gift', 'number_of_people_currently_read'],\n",
       "      dtype='object')"
      ]
     },
     "execution_count": 102,
     "metadata": {},
     "output_type": "execute_result"
    }
   ],
   "source": [
    "data_df[all_features].columns"
   ]
  },
  {
   "cell_type": "code",
   "execution_count": 103,
   "metadata": {},
   "outputs": [],
   "source": [
    "data_df.loc[:, 'author_date_of_birth'] = pd.to_datetime(data_df['author_date_of_birth'], format='mixed', errors='coerce')"
   ]
  },
  {
   "cell_type": "code",
   "execution_count": 104,
   "metadata": {},
   "outputs": [
    {
     "data": {
      "text/plain": [
       "0        1965-07-31 00:00:00\n",
       "1        1965-07-31 00:00:00\n",
       "2        1965-07-31 00:00:00\n",
       "3        1965-07-31 00:00:00\n",
       "4        1900-06-29 00:00:00\n",
       "                ...         \n",
       "10015    1937-08-05 00:00:00\n",
       "10016    1884-01-02 00:00:00\n",
       "10017    1925-12-03 00:00:00\n",
       "10018    1984-01-05 00:00:00\n",
       "10019    1961-01-28 00:00:00\n",
       "Name: author_date_of_birth, Length: 9738, dtype: object"
      ]
     },
     "execution_count": 104,
     "metadata": {},
     "output_type": "execute_result"
    }
   ],
   "source": [
    "data_df.loc[:, 'author_date_of_birth']"
   ]
  },
  {
   "cell_type": "code",
   "execution_count": 105,
   "metadata": {},
   "outputs": [
    {
     "data": {
      "text/plain": [
       "Index(['author_average_rating', 'author_number_of_people_read',\n",
       "       'author_number_of_people_wants_to_read', 'author_date_of_birth',\n",
       "       'author_number_of_fans', 'author_number_of_books_written',\n",
       "       'author_number_of_awards', 'number_of_user_opinions',\n",
       "       'number_of_user_ratings', 'number_of_discussions',\n",
       "       'number_of_people_read', 'Data wydania', 'Liczba stron', 'Cykl',\n",
       "       'rating_1', 'rating_2', 'rating_3', 'rating_4', 'rating_5', 'rating_6',\n",
       "       'rating_7', 'rating_8', 'rating_9', 'rating_10', 'Kategoria',\n",
       "       'part_of_cycle', 'Język', 'number_of_people_has',\n",
       "       'number_of_people_favorite', 'number_of_people_wants_to_read',\n",
       "       'number_of_people_wants_as_gift', 'number_of_people_currently_read'],\n",
       "      dtype='object')"
      ]
     },
     "execution_count": 105,
     "metadata": {},
     "output_type": "execute_result"
    }
   ],
   "source": [
    "data_df[all_features].columns"
   ]
  },
  {
   "cell_type": "code",
   "execution_count": 106,
   "metadata": {},
   "outputs": [],
   "source": [
    "rename_dict = {\n",
    "    \"Data wydania\": \"publication_date\",\n",
    "    \"Liczba stron\": \"number_of_pages\",\n",
    "    \"Cykl\": \"series\",\n",
    "    \"Kategoria\": \"category\",\n",
    "    \"Język\": \"language\"\n",
    "}"
   ]
  },
  {
   "cell_type": "code",
   "execution_count": 107,
   "metadata": {},
   "outputs": [],
   "source": [
    "renamed_cols = [rename_dict.get(col, col) for col in data_df[all_features].columns]"
   ]
  },
  {
   "cell_type": "code",
   "execution_count": 109,
   "metadata": {},
   "outputs": [
    {
     "data": {
      "text/plain": [
       "['author_average_rating',\n",
       " 'author_number_of_people_read',\n",
       " 'author_number_of_people_wants_to_read',\n",
       " 'author_date_of_birth',\n",
       " 'author_number_of_fans',\n",
       " 'author_number_of_books_written',\n",
       " 'author_number_of_awards',\n",
       " 'number_of_user_opinions',\n",
       " 'number_of_user_ratings',\n",
       " 'number_of_discussions',\n",
       " 'number_of_people_read',\n",
       " 'publication_date',\n",
       " 'number_of_pages',\n",
       " 'series',\n",
       " 'rating_1',\n",
       " 'rating_2',\n",
       " 'rating_3',\n",
       " 'rating_4',\n",
       " 'rating_5',\n",
       " 'rating_6',\n",
       " 'rating_7',\n",
       " 'rating_8',\n",
       " 'rating_9',\n",
       " 'rating_10',\n",
       " 'category',\n",
       " 'part_of_cycle',\n",
       " 'language',\n",
       " 'number_of_people_has',\n",
       " 'number_of_people_favorite',\n",
       " 'number_of_people_wants_to_read',\n",
       " 'number_of_people_wants_as_gift',\n",
       " 'number_of_people_currently_read']"
      ]
     },
     "execution_count": 109,
     "metadata": {},
     "output_type": "execute_result"
    }
   ],
   "source": [
    "renamed_cols"
   ]
  },
  {
   "cell_type": "code",
   "execution_count": 110,
   "metadata": {},
   "outputs": [],
   "source": [
    "# data_df = data_df.rename(columns=rename_dict)\n",
    "data_df = data_df.rename(columns=rename_dict)"
   ]
  },
  {
   "cell_type": "code",
   "execution_count": 115,
   "metadata": {},
   "outputs": [],
   "source": [
    "data_df[renamed_cols].to_csv('data/cleaned_data.csv', index=False)"
   ]
  }
 ],
 "metadata": {
  "kernelspec": {
   "display_name": "lubimyczytac",
   "language": "python",
   "name": "python3"
  },
  "language_info": {
   "codemirror_mode": {
    "name": "ipython",
    "version": 3
   },
   "file_extension": ".py",
   "mimetype": "text/x-python",
   "name": "python",
   "nbconvert_exporter": "python",
   "pygments_lexer": "ipython3",
   "version": "3.13.1"
  }
 },
 "nbformat": 4,
 "nbformat_minor": 2
}
