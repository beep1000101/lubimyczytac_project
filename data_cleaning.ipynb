{
 "cells": [
  {
   "cell_type": "code",
   "execution_count": 212,
   "metadata": {},
   "outputs": [],
   "source": [
    "from string import ascii_letters\n",
    "\n",
    "import pandas as pd\n",
    "\n",
    "from utils.paths import BOOKS_PATH, AUTHORS_PATH"
   ]
  },
  {
   "cell_type": "code",
   "execution_count": 213,
   "metadata": {},
   "outputs": [
    {
     "name": "stderr",
     "output_type": "stream",
     "text": [
      "/tmp/ipykernel_102037/587830805.py:1: DtypeWarning: Columns (76,77,78,79,80,81,82,83,84,85,86,87,88,89,90,91,92,93) have mixed types. Specify dtype option on import or set low_memory=False.\n",
      "  books_df = pd.read_csv(BOOKS_PATH)\n"
     ]
    }
   ],
   "source": [
    "books_df = pd.read_csv(BOOKS_PATH)\n",
    "authors_df = pd.read_csv(AUTHORS_PATH)"
   ]
  },
  {
   "cell_type": "code",
   "execution_count": 214,
   "metadata": {},
   "outputs": [
    {
     "data": {
      "text/plain": [
       "0           https://lubimyczytac.pl/autor/3701/j-k-rowling\n",
       "1           https://lubimyczytac.pl/autor/3701/j-k-rowling\n",
       "2           https://lubimyczytac.pl/autor/3701/j-k-rowling\n",
       "3           https://lubimyczytac.pl/autor/3701/j-k-rowling\n",
       "4        https://lubimyczytac.pl/autor/14276/antoine-de...\n",
       "                               ...                        \n",
       "15493        https://lubimyczytac.pl/autor/21483/sara-gran\n",
       "15494    https://lubimyczytac.pl/autor/32829/jean-paul-...\n",
       "15495       https://lubimyczytac.pl/autor/3282/david-weber\n",
       "15496    https://lubimyczytac.pl/autor/22983/katarzyna-...\n",
       "15497      https://lubimyczytac.pl/autor/6389/martin-booth\n",
       "Name: author_href, Length: 15498, dtype: object"
      ]
     },
     "execution_count": 214,
     "metadata": {},
     "output_type": "execute_result"
    }
   ],
   "source": [
    "books_df['author_href']"
   ]
  },
  {
   "cell_type": "code",
   "execution_count": 215,
   "metadata": {},
   "outputs": [
    {
     "data": {
      "text/plain": [
       "0          https://lubimyczytac.pl/autor/3701/j-k-rowling\n",
       "1       https://lubimyczytac.pl/autor/14276/antoine-de...\n",
       "2        https://lubimyczytac.pl/autor/3216/j-r-r-tolkien\n",
       "3       https://lubimyczytac.pl/autor/10474/george-orwell\n",
       "4       https://lubimyczytac.pl/autor/22701/michail-bu...\n",
       "                              ...                        \n",
       "5003    https://lubimyczytac.pl/autor/36392/dmitrij-st...\n",
       "5004    https://lubimyczytac.pl/autor/4018/slawomir-ce...\n",
       "5005    https://lubimyczytac.pl/autor/30318/marcin-bar...\n",
       "5006    https://lubimyczytac.pl/autor/32747/cathi-hanauer\n",
       "5007        https://lubimyczytac.pl/autor/21483/sara-gran\n",
       "Name: author_url, Length: 5008, dtype: object"
      ]
     },
     "execution_count": 215,
     "metadata": {},
     "output_type": "execute_result"
    }
   ],
   "source": [
    "authors_df['author_url']"
   ]
  },
  {
   "cell_type": "code",
   "execution_count": 216,
   "metadata": {},
   "outputs": [],
   "source": [
    "data_df = books_df.join(authors_df.set_index('author_url'), on='author_href', how='inner')"
   ]
  },
  {
   "cell_type": "code",
   "execution_count": 217,
   "metadata": {},
   "outputs": [
    {
     "data": {
      "text/plain": [
       "array([1, 2, 3, 4, 5, 6, 7, 0, 8, 9])"
      ]
     },
     "execution_count": 217,
     "metadata": {},
     "output_type": "execute_result"
    }
   ],
   "source": [
    "# check if cycles always end with <cycle name> (<string> <number>)\n",
    "data_df['Cykl'].dropna().str.extract(r'(\\d)+').fillna(0).astype(int)[0].unique()"
   ]
  },
  {
   "cell_type": "code",
   "execution_count": 218,
   "metadata": {},
   "outputs": [],
   "source": [
    "data_df['part_of_cycle'] = data_df['Cykl'].str.extract(r'(\\d)+').fillna(0).astype(int)[0]"
   ]
  },
  {
   "cell_type": "code",
   "execution_count": 219,
   "metadata": {},
   "outputs": [
    {
     "data": {
      "text/plain": [
       "15449    9\n",
       "1860     9\n",
       "1835     9\n",
       "Name: part_of_cycle, dtype: int64"
      ]
     },
     "execution_count": 219,
     "metadata": {},
     "output_type": "execute_result"
    }
   ],
   "source": [
    "data_df['part_of_cycle'].sort_values(ascending=False)[:3]"
   ]
  },
  {
   "cell_type": "code",
   "execution_count": 220,
   "metadata": {},
   "outputs": [
    {
     "data": {
      "text/html": [
       "<div>\n",
       "<style scoped>\n",
       "    .dataframe tbody tr th:only-of-type {\n",
       "        vertical-align: middle;\n",
       "    }\n",
       "\n",
       "    .dataframe tbody tr th {\n",
       "        vertical-align: top;\n",
       "    }\n",
       "\n",
       "    .dataframe thead th {\n",
       "        text-align: right;\n",
       "    }\n",
       "</style>\n",
       "<table border=\"1\" class=\"dataframe\">\n",
       "  <thead>\n",
       "    <tr style=\"text-align: right;\">\n",
       "      <th></th>\n",
       "      <th>author</th>\n",
       "      <th>author_href</th>\n",
       "      <th>description</th>\n",
       "      <th>number_of_user_opinions</th>\n",
       "      <th>number_of_user_ratings</th>\n",
       "      <th>number_of_discussions</th>\n",
       "      <th>Kategoria</th>\n",
       "      <th>Format</th>\n",
       "      <th>Cykl</th>\n",
       "      <th>Tytuł oryginału</th>\n",
       "      <th>...</th>\n",
       "      <th>author_href27</th>\n",
       "      <th>author_name</th>\n",
       "      <th>author_average_rating</th>\n",
       "      <th>author_number_of_people_read</th>\n",
       "      <th>author_number_of_people_wants_to_read</th>\n",
       "      <th>author_date_of_birth</th>\n",
       "      <th>author_number_of_fans</th>\n",
       "      <th>author_number_of_books_written</th>\n",
       "      <th>author_number_of_awards</th>\n",
       "      <th>part_of_cycle</th>\n",
       "    </tr>\n",
       "  </thead>\n",
       "  <tbody>\n",
       "    <tr>\n",
       "      <th>15449</th>\n",
       "      <td>Cindy Jefferies</td>\n",
       "      <td>https://lubimyczytac.pl/autor/6162/cindy-jeffe...</td>\n",
       "      <td>Najsłynniejsze uczennice Rockley Park, bliźni...</td>\n",
       "      <td>2</td>\n",
       "      <td>142</td>\n",
       "      <td>0</td>\n",
       "      <td>literatura dziecięca</td>\n",
       "      <td>papier</td>\n",
       "      <td>Szkoła Gwiazd (tom 9)</td>\n",
       "      <td>Fame School: Pop Diva</td>\n",
       "      <td>...</td>\n",
       "      <td>NaN</td>\n",
       "      <td>Cindy Jefferies</td>\n",
       "      <td>6.0</td>\n",
       "      <td>928</td>\n",
       "      <td>564</td>\n",
       "      <td>Unknown</td>\n",
       "      <td>12</td>\n",
       "      <td>20</td>\n",
       "      <td>0</td>\n",
       "      <td>9</td>\n",
       "    </tr>\n",
       "    <tr>\n",
       "      <th>1860</th>\n",
       "      <td>Terry Pratchett</td>\n",
       "      <td>https://lubimyczytac.pl/autor/3221/terry-pratc...</td>\n",
       "      <td>Powszechnie uznawana prawda głosi, że kiedy p...</td>\n",
       "      <td>151</td>\n",
       "      <td>2556</td>\n",
       "      <td>0</td>\n",
       "      <td>fantasy, science fiction</td>\n",
       "      <td>papier</td>\n",
       "      <td>Świat Dysku (tom 39)</td>\n",
       "      <td>Snuff</td>\n",
       "      <td>...</td>\n",
       "      <td>NaN</td>\n",
       "      <td>Terry Pratchett</td>\n",
       "      <td>7.4</td>\n",
       "      <td>36760</td>\n",
       "      <td>107286</td>\n",
       "      <td>28.04.1948</td>\n",
       "      <td>5401</td>\n",
       "      <td>166</td>\n",
       "      <td>0</td>\n",
       "      <td>9</td>\n",
       "    </tr>\n",
       "    <tr>\n",
       "      <th>1835</th>\n",
       "      <td>Agatha Christie</td>\n",
       "      <td>https://lubimyczytac.pl/autor/14083/agatha-chr...</td>\n",
       "      <td>Stara pani Boynton nie należy do czułych mate...</td>\n",
       "      <td>155</td>\n",
       "      <td>2575</td>\n",
       "      <td>0</td>\n",
       "      <td>kryminał, sensacja, thriller</td>\n",
       "      <td>papier</td>\n",
       "      <td>Herkules Poirot (tom 19)</td>\n",
       "      <td>Appointment with Death</td>\n",
       "      <td>...</td>\n",
       "      <td>NaN</td>\n",
       "      <td>Agatha Christie</td>\n",
       "      <td>7.0</td>\n",
       "      <td>58293</td>\n",
       "      <td>132793</td>\n",
       "      <td>15.09.1890</td>\n",
       "      <td>6416</td>\n",
       "      <td>186</td>\n",
       "      <td>0</td>\n",
       "      <td>9</td>\n",
       "    </tr>\n",
       "  </tbody>\n",
       "</table>\n",
       "<p>3 rows × 103 columns</p>\n",
       "</div>"
      ],
      "text/plain": [
       "                author                                        author_href  \\\n",
       "15449  Cindy Jefferies  https://lubimyczytac.pl/autor/6162/cindy-jeffe...   \n",
       "1860   Terry Pratchett  https://lubimyczytac.pl/autor/3221/terry-pratc...   \n",
       "1835   Agatha Christie  https://lubimyczytac.pl/autor/14083/agatha-chr...   \n",
       "\n",
       "                                             description  \\\n",
       "15449   Najsłynniejsze uczennice Rockley Park, bliźni...   \n",
       "1860    Powszechnie uznawana prawda głosi, że kiedy p...   \n",
       "1835    Stara pani Boynton nie należy do czułych mate...   \n",
       "\n",
       "       number_of_user_opinions  number_of_user_ratings  number_of_discussions  \\\n",
       "15449                        2                     142                      0   \n",
       "1860                       151                    2556                      0   \n",
       "1835                       155                    2575                      0   \n",
       "\n",
       "                          Kategoria  Format                      Cykl  \\\n",
       "15449          literatura dziecięca  papier     Szkoła Gwiazd (tom 9)   \n",
       "1860       fantasy, science fiction  papier      Świat Dysku (tom 39)   \n",
       "1835   kryminał, sensacja, thriller  papier  Herkules Poirot (tom 19)   \n",
       "\n",
       "              Tytuł oryginału  ... author_href27      author_name  \\\n",
       "15449   Fame School: Pop Diva  ...           NaN  Cindy Jefferies   \n",
       "1860                    Snuff  ...           NaN  Terry Pratchett   \n",
       "1835   Appointment with Death  ...           NaN  Agatha Christie   \n",
       "\n",
       "      author_average_rating author_number_of_people_read  \\\n",
       "15449                   6.0                          928   \n",
       "1860                    7.4                        36760   \n",
       "1835                    7.0                        58293   \n",
       "\n",
       "       author_number_of_people_wants_to_read author_date_of_birth  \\\n",
       "15449                                    564              Unknown   \n",
       "1860                                  107286           28.04.1948   \n",
       "1835                                  132793           15.09.1890   \n",
       "\n",
       "      author_number_of_fans author_number_of_books_written  \\\n",
       "15449                    12                             20   \n",
       "1860                   5401                            166   \n",
       "1835                   6416                            186   \n",
       "\n",
       "      author_number_of_awards part_of_cycle  \n",
       "15449                       0             9  \n",
       "1860                        0             9  \n",
       "1835                        0             9  \n",
       "\n",
       "[3 rows x 103 columns]"
      ]
     },
     "execution_count": 220,
     "metadata": {},
     "output_type": "execute_result"
    }
   ],
   "source": [
    "data_df.loc[data_df['part_of_cycle'].sort_values(ascending=False)[:3].index, :]"
   ]
  },
  {
   "cell_type": "code",
   "execution_count": 221,
   "metadata": {},
   "outputs": [],
   "source": [
    "# drop records without number of pages\n",
    "data_df = data_df.dropna(subset=['Liczba stron'])"
   ]
  },
  {
   "cell_type": "code",
   "execution_count": 222,
   "metadata": {},
   "outputs": [],
   "source": [
    "numeric_columns = data_df.select_dtypes(include='number').columns"
   ]
  },
  {
   "cell_type": "code",
   "execution_count": 223,
   "metadata": {},
   "outputs": [],
   "source": [
    "float_columns = 'author_average_rating'\n",
    "integer_columns = numeric_columns.drop(float_columns)"
   ]
  },
  {
   "cell_type": "code",
   "execution_count": 224,
   "metadata": {},
   "outputs": [],
   "source": [
    "# integer cols where there is nans\n",
    "data_df.loc[:, integer_columns] = data_df.loc[:, integer_columns].fillna(0).astype(int)"
   ]
  },
  {
   "cell_type": "code",
   "execution_count": 225,
   "metadata": {},
   "outputs": [
    {
     "data": {
      "text/html": [
       "<div>\n",
       "<style scoped>\n",
       "    .dataframe tbody tr th:only-of-type {\n",
       "        vertical-align: middle;\n",
       "    }\n",
       "\n",
       "    .dataframe tbody tr th {\n",
       "        vertical-align: top;\n",
       "    }\n",
       "\n",
       "    .dataframe thead th {\n",
       "        text-align: right;\n",
       "    }\n",
       "</style>\n",
       "<table border=\"1\" class=\"dataframe\">\n",
       "  <thead>\n",
       "    <tr style=\"text-align: right;\">\n",
       "      <th></th>\n",
       "      <th>number_of_user_opinions</th>\n",
       "      <th>number_of_user_ratings</th>\n",
       "      <th>number_of_discussions</th>\n",
       "      <th>Liczba stron</th>\n",
       "      <th>number_of_people_read</th>\n",
       "      <th>number_of_people_has</th>\n",
       "      <th>number_of_people_favorite</th>\n",
       "      <th>number_of_people_wants_to_read</th>\n",
       "      <th>number_of_people_wants_as_gift</th>\n",
       "      <th>number_of_people_currently_read</th>\n",
       "      <th>...</th>\n",
       "      <th>rating_4</th>\n",
       "      <th>rating_3</th>\n",
       "      <th>rating_2</th>\n",
       "      <th>rating_1</th>\n",
       "      <th>author_number_of_people_read</th>\n",
       "      <th>author_number_of_people_wants_to_read</th>\n",
       "      <th>author_number_of_fans</th>\n",
       "      <th>author_number_of_books_written</th>\n",
       "      <th>author_number_of_awards</th>\n",
       "      <th>part_of_cycle</th>\n",
       "    </tr>\n",
       "  </thead>\n",
       "  <tbody>\n",
       "    <tr>\n",
       "      <th>0</th>\n",
       "      <td>5156</td>\n",
       "      <td>85009</td>\n",
       "      <td>1</td>\n",
       "      <td>320.0</td>\n",
       "      <td>124692</td>\n",
       "      <td>30249.0</td>\n",
       "      <td>11410.0</td>\n",
       "      <td>6210</td>\n",
       "      <td>990.0</td>\n",
       "      <td>849.0</td>\n",
       "      <td>...</td>\n",
       "      <td>501</td>\n",
       "      <td>490</td>\n",
       "      <td>67</td>\n",
       "      <td>145</td>\n",
       "      <td>130174</td>\n",
       "      <td>75668</td>\n",
       "      <td>11479</td>\n",
       "      <td>40</td>\n",
       "      <td>1</td>\n",
       "      <td>1</td>\n",
       "    </tr>\n",
       "    <tr>\n",
       "      <th>1</th>\n",
       "      <td>2305</td>\n",
       "      <td>70818</td>\n",
       "      <td>0</td>\n",
       "      <td>356.0</td>\n",
       "      <td>105466</td>\n",
       "      <td>25003.0</td>\n",
       "      <td>8972.0</td>\n",
       "      <td>4535</td>\n",
       "      <td>883.0</td>\n",
       "      <td>501.0</td>\n",
       "      <td>...</td>\n",
       "      <td>345</td>\n",
       "      <td>404</td>\n",
       "      <td>26</td>\n",
       "      <td>67</td>\n",
       "      <td>130174</td>\n",
       "      <td>75668</td>\n",
       "      <td>11479</td>\n",
       "      <td>40</td>\n",
       "      <td>1</td>\n",
       "      <td>2</td>\n",
       "    </tr>\n",
       "    <tr>\n",
       "      <th>2</th>\n",
       "      <td>2241</td>\n",
       "      <td>67918</td>\n",
       "      <td>0</td>\n",
       "      <td>456.0</td>\n",
       "      <td>101297</td>\n",
       "      <td>23587.0</td>\n",
       "      <td>10242.0</td>\n",
       "      <td>5041</td>\n",
       "      <td>938.0</td>\n",
       "      <td>463.0</td>\n",
       "      <td>...</td>\n",
       "      <td>200</td>\n",
       "      <td>235</td>\n",
       "      <td>20</td>\n",
       "      <td>46</td>\n",
       "      <td>130174</td>\n",
       "      <td>75668</td>\n",
       "      <td>11479</td>\n",
       "      <td>40</td>\n",
       "      <td>1</td>\n",
       "      <td>3</td>\n",
       "    </tr>\n",
       "    <tr>\n",
       "      <th>3</th>\n",
       "      <td>1892</td>\n",
       "      <td>64439</td>\n",
       "      <td>0</td>\n",
       "      <td>764.0</td>\n",
       "      <td>96528</td>\n",
       "      <td>22705.0</td>\n",
       "      <td>9109.0</td>\n",
       "      <td>5211</td>\n",
       "      <td>971.0</td>\n",
       "      <td>632.0</td>\n",
       "      <td>...</td>\n",
       "      <td>244</td>\n",
       "      <td>274</td>\n",
       "      <td>27</td>\n",
       "      <td>55</td>\n",
       "      <td>130174</td>\n",
       "      <td>75668</td>\n",
       "      <td>11479</td>\n",
       "      <td>40</td>\n",
       "      <td>1</td>\n",
       "      <td>4</td>\n",
       "    </tr>\n",
       "    <tr>\n",
       "      <th>4</th>\n",
       "      <td>4264</td>\n",
       "      <td>63437</td>\n",
       "      <td>0</td>\n",
       "      <td>144.0</td>\n",
       "      <td>91987</td>\n",
       "      <td>16084.0</td>\n",
       "      <td>7102.0</td>\n",
       "      <td>3781</td>\n",
       "      <td>536.0</td>\n",
       "      <td>312.0</td>\n",
       "      <td>...</td>\n",
       "      <td>1040</td>\n",
       "      <td>1139</td>\n",
       "      <td>335</td>\n",
       "      <td>428</td>\n",
       "      <td>87296</td>\n",
       "      <td>8410</td>\n",
       "      <td>681</td>\n",
       "      <td>42</td>\n",
       "      <td>0</td>\n",
       "      <td>0</td>\n",
       "    </tr>\n",
       "    <tr>\n",
       "      <th>...</th>\n",
       "      <td>...</td>\n",
       "      <td>...</td>\n",
       "      <td>...</td>\n",
       "      <td>...</td>\n",
       "      <td>...</td>\n",
       "      <td>...</td>\n",
       "      <td>...</td>\n",
       "      <td>...</td>\n",
       "      <td>...</td>\n",
       "      <td>...</td>\n",
       "      <td>...</td>\n",
       "      <td>...</td>\n",
       "      <td>...</td>\n",
       "      <td>...</td>\n",
       "      <td>...</td>\n",
       "      <td>...</td>\n",
       "      <td>...</td>\n",
       "      <td>...</td>\n",
       "      <td>...</td>\n",
       "      <td>...</td>\n",
       "      <td>...</td>\n",
       "    </tr>\n",
       "    <tr>\n",
       "      <th>15493</th>\n",
       "      <td>22</td>\n",
       "      <td>149</td>\n",
       "      <td>0</td>\n",
       "      <td>272.0</td>\n",
       "      <td>210</td>\n",
       "      <td>22.0</td>\n",
       "      <td>6.0</td>\n",
       "      <td>145</td>\n",
       "      <td>0.0</td>\n",
       "      <td>0.0</td>\n",
       "      <td>...</td>\n",
       "      <td>12</td>\n",
       "      <td>6</td>\n",
       "      <td>6</td>\n",
       "      <td>5</td>\n",
       "      <td>323</td>\n",
       "      <td>230</td>\n",
       "      <td>1</td>\n",
       "      <td>3</td>\n",
       "      <td>0</td>\n",
       "      <td>0</td>\n",
       "    </tr>\n",
       "    <tr>\n",
       "      <th>15494</th>\n",
       "      <td>9</td>\n",
       "      <td>147</td>\n",
       "      <td>0</td>\n",
       "      <td>773.0</td>\n",
       "      <td>223</td>\n",
       "      <td>52.0</td>\n",
       "      <td>17.0</td>\n",
       "      <td>810</td>\n",
       "      <td>7.0</td>\n",
       "      <td>26.0</td>\n",
       "      <td>...</td>\n",
       "      <td>4</td>\n",
       "      <td>2</td>\n",
       "      <td>1</td>\n",
       "      <td>1</td>\n",
       "      <td>2886</td>\n",
       "      <td>8533</td>\n",
       "      <td>274</td>\n",
       "      <td>37</td>\n",
       "      <td>0</td>\n",
       "      <td>0</td>\n",
       "    </tr>\n",
       "    <tr>\n",
       "      <th>15495</th>\n",
       "      <td>13</td>\n",
       "      <td>153</td>\n",
       "      <td>0</td>\n",
       "      <td>314.0</td>\n",
       "      <td>236</td>\n",
       "      <td>62.0</td>\n",
       "      <td>9.0</td>\n",
       "      <td>91</td>\n",
       "      <td>3.0</td>\n",
       "      <td>0.0</td>\n",
       "      <td>...</td>\n",
       "      <td>5</td>\n",
       "      <td>5</td>\n",
       "      <td>1</td>\n",
       "      <td>3</td>\n",
       "      <td>1717</td>\n",
       "      <td>6447</td>\n",
       "      <td>215</td>\n",
       "      <td>85</td>\n",
       "      <td>0</td>\n",
       "      <td>1</td>\n",
       "    </tr>\n",
       "    <tr>\n",
       "      <th>15496</th>\n",
       "      <td>11</td>\n",
       "      <td>152</td>\n",
       "      <td>0</td>\n",
       "      <td>224.0</td>\n",
       "      <td>248</td>\n",
       "      <td>46.0</td>\n",
       "      <td>3.0</td>\n",
       "      <td>57</td>\n",
       "      <td>0.0</td>\n",
       "      <td>0.0</td>\n",
       "      <td>...</td>\n",
       "      <td>8</td>\n",
       "      <td>3</td>\n",
       "      <td>1</td>\n",
       "      <td>1</td>\n",
       "      <td>1952</td>\n",
       "      <td>1233</td>\n",
       "      <td>21</td>\n",
       "      <td>9</td>\n",
       "      <td>0</td>\n",
       "      <td>0</td>\n",
       "    </tr>\n",
       "    <tr>\n",
       "      <th>15497</th>\n",
       "      <td>16</td>\n",
       "      <td>147</td>\n",
       "      <td>0</td>\n",
       "      <td>234.0</td>\n",
       "      <td>215</td>\n",
       "      <td>31.0</td>\n",
       "      <td>7.0</td>\n",
       "      <td>77</td>\n",
       "      <td>0.0</td>\n",
       "      <td>0.0</td>\n",
       "      <td>...</td>\n",
       "      <td>2</td>\n",
       "      <td>5</td>\n",
       "      <td>1</td>\n",
       "      <td>0</td>\n",
       "      <td>502</td>\n",
       "      <td>255</td>\n",
       "      <td>1</td>\n",
       "      <td>10</td>\n",
       "      <td>0</td>\n",
       "      <td>2</td>\n",
       "    </tr>\n",
       "  </tbody>\n",
       "</table>\n",
       "<p>15186 rows × 26 columns</p>\n",
       "</div>"
      ],
      "text/plain": [
       "       number_of_user_opinions  number_of_user_ratings  number_of_discussions  \\\n",
       "0                         5156                   85009                      1   \n",
       "1                         2305                   70818                      0   \n",
       "2                         2241                   67918                      0   \n",
       "3                         1892                   64439                      0   \n",
       "4                         4264                   63437                      0   \n",
       "...                        ...                     ...                    ...   \n",
       "15493                       22                     149                      0   \n",
       "15494                        9                     147                      0   \n",
       "15495                       13                     153                      0   \n",
       "15496                       11                     152                      0   \n",
       "15497                       16                     147                      0   \n",
       "\n",
       "       Liczba stron  number_of_people_read  number_of_people_has  \\\n",
       "0             320.0                 124692               30249.0   \n",
       "1             356.0                 105466               25003.0   \n",
       "2             456.0                 101297               23587.0   \n",
       "3             764.0                  96528               22705.0   \n",
       "4             144.0                  91987               16084.0   \n",
       "...             ...                    ...                   ...   \n",
       "15493         272.0                    210                  22.0   \n",
       "15494         773.0                    223                  52.0   \n",
       "15495         314.0                    236                  62.0   \n",
       "15496         224.0                    248                  46.0   \n",
       "15497         234.0                    215                  31.0   \n",
       "\n",
       "       number_of_people_favorite  number_of_people_wants_to_read  \\\n",
       "0                        11410.0                            6210   \n",
       "1                         8972.0                            4535   \n",
       "2                        10242.0                            5041   \n",
       "3                         9109.0                            5211   \n",
       "4                         7102.0                            3781   \n",
       "...                          ...                             ...   \n",
       "15493                        6.0                             145   \n",
       "15494                       17.0                             810   \n",
       "15495                        9.0                              91   \n",
       "15496                        3.0                              57   \n",
       "15497                        7.0                              77   \n",
       "\n",
       "       number_of_people_wants_as_gift  number_of_people_currently_read  ...  \\\n",
       "0                               990.0                            849.0  ...   \n",
       "1                               883.0                            501.0  ...   \n",
       "2                               938.0                            463.0  ...   \n",
       "3                               971.0                            632.0  ...   \n",
       "4                               536.0                            312.0  ...   \n",
       "...                               ...                              ...  ...   \n",
       "15493                             0.0                              0.0  ...   \n",
       "15494                             7.0                             26.0  ...   \n",
       "15495                             3.0                              0.0  ...   \n",
       "15496                             0.0                              0.0  ...   \n",
       "15497                             0.0                              0.0  ...   \n",
       "\n",
       "       rating_4  rating_3  rating_2  rating_1  author_number_of_people_read  \\\n",
       "0           501       490        67       145                        130174   \n",
       "1           345       404        26        67                        130174   \n",
       "2           200       235        20        46                        130174   \n",
       "3           244       274        27        55                        130174   \n",
       "4          1040      1139       335       428                         87296   \n",
       "...         ...       ...       ...       ...                           ...   \n",
       "15493        12         6         6         5                           323   \n",
       "15494         4         2         1         1                          2886   \n",
       "15495         5         5         1         3                          1717   \n",
       "15496         8         3         1         1                          1952   \n",
       "15497         2         5         1         0                           502   \n",
       "\n",
       "       author_number_of_people_wants_to_read  author_number_of_fans  \\\n",
       "0                                      75668                  11479   \n",
       "1                                      75668                  11479   \n",
       "2                                      75668                  11479   \n",
       "3                                      75668                  11479   \n",
       "4                                       8410                    681   \n",
       "...                                      ...                    ...   \n",
       "15493                                    230                      1   \n",
       "15494                                   8533                    274   \n",
       "15495                                   6447                    215   \n",
       "15496                                   1233                     21   \n",
       "15497                                    255                      1   \n",
       "\n",
       "       author_number_of_books_written  author_number_of_awards  part_of_cycle  \n",
       "0                                  40                        1              1  \n",
       "1                                  40                        1              2  \n",
       "2                                  40                        1              3  \n",
       "3                                  40                        1              4  \n",
       "4                                  42                        0              0  \n",
       "...                               ...                      ...            ...  \n",
       "15493                               3                        0              0  \n",
       "15494                              37                        0              0  \n",
       "15495                              85                        0              1  \n",
       "15496                               9                        0              0  \n",
       "15497                              10                        0              2  \n",
       "\n",
       "[15186 rows x 26 columns]"
      ]
     },
     "execution_count": 225,
     "metadata": {},
     "output_type": "execute_result"
    }
   ],
   "source": [
    "data_df[integer_columns]"
   ]
  },
  {
   "cell_type": "markdown",
   "metadata": {},
   "source": [
    "# imputacja tytulow"
   ]
  },
  {
   "cell_type": "code",
   "execution_count": 226,
   "metadata": {},
   "outputs": [
    {
     "data": {
      "text/plain": [
       "Index(['author', 'author_href', 'description', 'number_of_user_opinions',\n",
       "       'number_of_user_ratings', 'number_of_discussions', 'Kategoria',\n",
       "       'Format', 'Cykl', 'Tytuł oryginału',\n",
       "       ...\n",
       "       'author_href27', 'author_name', 'author_average_rating',\n",
       "       'author_number_of_people_read', 'author_number_of_people_wants_to_read',\n",
       "       'author_date_of_birth', 'author_number_of_fans',\n",
       "       'author_number_of_books_written', 'author_number_of_awards',\n",
       "       'part_of_cycle'],\n",
       "      dtype='object', length=103)"
      ]
     },
     "execution_count": 226,
     "metadata": {},
     "output_type": "execute_result"
    }
   ],
   "source": [
    "data_df.columns"
   ]
  },
  {
   "cell_type": "code",
   "execution_count": 227,
   "metadata": {},
   "outputs": [],
   "source": [
    "missing_title = data_df['Tytuł oryginału'].isna()"
   ]
  },
  {
   "cell_type": "code",
   "execution_count": 228,
   "metadata": {},
   "outputs": [],
   "source": [
    "data_df.loc[missing_title, 'Tytuł oryginału'] = data_df.loc[missing_title, 'url'].str.split('/').str[-1].str.split('-').str.join(' ').str.title()"
   ]
  },
  {
   "cell_type": "code",
   "execution_count": 229,
   "metadata": {},
   "outputs": [
    {
     "data": {
      "text/plain": [
       "0        1\n",
       "1        2\n",
       "2        3\n",
       "3        4\n",
       "4        0\n",
       "        ..\n",
       "15493    0\n",
       "15494    0\n",
       "15495    1\n",
       "15496    0\n",
       "15497    2\n",
       "Name: part_of_cycle, Length: 15186, dtype: int64"
      ]
     },
     "execution_count": 229,
     "metadata": {},
     "output_type": "execute_result"
    }
   ],
   "source": [
    "data_df['part_of_cycle']"
   ]
  },
  {
   "cell_type": "markdown",
   "metadata": {},
   "source": [
    "# cleaning"
   ]
  },
  {
   "cell_type": "code",
   "execution_count": 230,
   "metadata": {},
   "outputs": [
    {
     "data": {
      "text/plain": [
       "Index(['author', 'author_href', 'description', 'number_of_user_opinions',\n",
       "       'number_of_user_ratings', 'number_of_discussions', 'Kategoria',\n",
       "       'Format', 'Cykl', 'Tytuł oryginału',\n",
       "       ...\n",
       "       'author_href27', 'author_name', 'author_average_rating',\n",
       "       'author_number_of_people_read', 'author_number_of_people_wants_to_read',\n",
       "       'author_date_of_birth', 'author_number_of_fans',\n",
       "       'author_number_of_books_written', 'author_number_of_awards',\n",
       "       'part_of_cycle'],\n",
       "      dtype='object', length=103)"
      ]
     },
     "execution_count": 230,
     "metadata": {},
     "output_type": "execute_result"
    }
   ],
   "source": [
    "data_df.columns"
   ]
  },
  {
   "cell_type": "markdown",
   "metadata": {},
   "source": [
    "## author quantitative features:\n",
    "author_average_rating\n",
    "author_number_of_people_read\n",
    "author_number_of_people_wants_to_read\n",
    "author_date_of_birth ?\n",
    "author_number_of_fans\n",
    "author_number_of_books_written\n",
    "author_number_of_awards\n",
    "## book quantitative features\n",
    "description_length (engineered)\n",
    "number_of_user_opinions\n",
    "number_of_user_ratings\n",
    "number_of_discussions\n",
    "number_of_people_read\n",
    "Data wydania\n",
    "Liczba stron\n",
    "description\n",
    "## book qualitative features\n",
    "Kategoria\n",
    "part_of_cycle (engineered)\n",
    "Język\n",
    "number_of_people_has\n",
    "number_of_people_favorite\n",
    "number_of_people_wants_to_read\n",
    "number_of_people_wants_as_gift\n",
    "number_of_people_currently_read"
   ]
  },
  {
   "cell_type": "code",
   "execution_count": 231,
   "metadata": {},
   "outputs": [],
   "source": [
    "author_quant_features = [\n",
    "    \"author_average_rating\",\n",
    "    \"author_number_of_people_read\",\n",
    "    \"author_number_of_people_wants_to_read\",\n",
    "    \"author_date_of_birth\",  # Możliwe, że wymaga dodatkowego przetworzenia\n",
    "    \"author_number_of_fans\",\n",
    "    \"author_number_of_books_written\",\n",
    "    \"author_number_of_awards\"\n",
    "]\n",
    "\n",
    "# Cechy ilościowe związane z książką\n",
    "book_quant_features = [\n",
    "    \"number_of_user_opinions\",\n",
    "    \"number_of_user_ratings\",\n",
    "    \"number_of_discussions\",\n",
    "    \"number_of_people_read\",\n",
    "    \"Data wydania\",  # to be transformed\n",
    "    \"Liczba stron\",\n",
    "    \"Cykl\",\n",
    "] + [f'rating_{i}' for i in range(1, 11)]\n",
    "\n",
    "# Cechy jakościowe związane z książką\n",
    "book_qual_features = [\n",
    "    \"Kategoria\",\n",
    "    \"part_of_cycle\",  # engineered\n",
    "    \"Język\",\n",
    "    \"number_of_people_has\",\n",
    "    \"number_of_people_favorite\",\n",
    "    \"number_of_people_wants_to_read\",\n",
    "    \"number_of_people_wants_as_gift\",\n",
    "    \"number_of_people_currently_read\",\n",
    "    \"description\",\n",
    "    \"Format\"\n",
    "]"
   ]
  },
  {
   "cell_type": "code",
   "execution_count": 232,
   "metadata": {},
   "outputs": [],
   "source": [
    "all_features = author_quant_features + book_quant_features + book_qual_features"
   ]
  },
  {
   "cell_type": "code",
   "execution_count": 233,
   "metadata": {},
   "outputs": [
    {
     "data": {
      "text/plain": [
       "Index(['author_average_rating', 'author_number_of_people_read',\n",
       "       'author_number_of_people_wants_to_read', 'author_date_of_birth',\n",
       "       'author_number_of_fans', 'author_number_of_books_written',\n",
       "       'author_number_of_awards', 'number_of_user_opinions',\n",
       "       'number_of_user_ratings', 'number_of_discussions',\n",
       "       'number_of_people_read', 'Data wydania', 'Liczba stron', 'Cykl',\n",
       "       'rating_1', 'rating_2', 'rating_3', 'rating_4', 'rating_5', 'rating_6',\n",
       "       'rating_7', 'rating_8', 'rating_9', 'rating_10', 'Kategoria',\n",
       "       'part_of_cycle', 'Język', 'number_of_people_has',\n",
       "       'number_of_people_favorite', 'number_of_people_wants_to_read',\n",
       "       'number_of_people_wants_as_gift', 'number_of_people_currently_read',\n",
       "       'description', 'Format'],\n",
       "      dtype='object')"
      ]
     },
     "execution_count": 233,
     "metadata": {},
     "output_type": "execute_result"
    }
   ],
   "source": [
    "data_df[all_features].columns"
   ]
  },
  {
   "cell_type": "code",
   "execution_count": 234,
   "metadata": {},
   "outputs": [],
   "source": [
    "data_df.loc[:, 'author_date_of_birth'] = pd.to_datetime(data_df['author_date_of_birth'], format='mixed', errors='coerce')"
   ]
  },
  {
   "cell_type": "code",
   "execution_count": 235,
   "metadata": {},
   "outputs": [
    {
     "data": {
      "text/plain": [
       "0        1965-07-31 00:00:00\n",
       "1        1965-07-31 00:00:00\n",
       "2        1965-07-31 00:00:00\n",
       "3        1965-07-31 00:00:00\n",
       "4        1900-06-29 00:00:00\n",
       "                ...         \n",
       "15493                    NaT\n",
       "15494    1905-06-21 00:00:00\n",
       "15495    1952-10-24 00:00:00\n",
       "15496    1963-01-01 00:00:00\n",
       "15497                    NaT\n",
       "Name: author_date_of_birth, Length: 15186, dtype: object"
      ]
     },
     "execution_count": 235,
     "metadata": {},
     "output_type": "execute_result"
    }
   ],
   "source": [
    "data_df.loc[:, 'author_date_of_birth']"
   ]
  },
  {
   "cell_type": "code",
   "execution_count": 236,
   "metadata": {},
   "outputs": [
    {
     "data": {
      "text/plain": [
       "Index(['author_average_rating', 'author_number_of_people_read',\n",
       "       'author_number_of_people_wants_to_read', 'author_date_of_birth',\n",
       "       'author_number_of_fans', 'author_number_of_books_written',\n",
       "       'author_number_of_awards', 'number_of_user_opinions',\n",
       "       'number_of_user_ratings', 'number_of_discussions',\n",
       "       'number_of_people_read', 'Data wydania', 'Liczba stron', 'Cykl',\n",
       "       'rating_1', 'rating_2', 'rating_3', 'rating_4', 'rating_5', 'rating_6',\n",
       "       'rating_7', 'rating_8', 'rating_9', 'rating_10', 'Kategoria',\n",
       "       'part_of_cycle', 'Język', 'number_of_people_has',\n",
       "       'number_of_people_favorite', 'number_of_people_wants_to_read',\n",
       "       'number_of_people_wants_as_gift', 'number_of_people_currently_read',\n",
       "       'description', 'Format'],\n",
       "      dtype='object')"
      ]
     },
     "execution_count": 236,
     "metadata": {},
     "output_type": "execute_result"
    }
   ],
   "source": [
    "data_df[all_features].columns"
   ]
  },
  {
   "cell_type": "code",
   "execution_count": 237,
   "metadata": {},
   "outputs": [],
   "source": [
    "rename_dict = {\n",
    "    \"Data wydania\": \"publication_date\",\n",
    "    \"Liczba stron\": \"number_of_pages\",\n",
    "    \"Cykl\": \"series\",\n",
    "    \"Kategoria\": \"category\",\n",
    "    \"Język\": \"language\",\n",
    "    \"Format\": \"format\"\n",
    "}"
   ]
  },
  {
   "cell_type": "code",
   "execution_count": 238,
   "metadata": {},
   "outputs": [],
   "source": [
    "renamed_cols = [rename_dict.get(col, col) for col in data_df[all_features].columns]"
   ]
  },
  {
   "cell_type": "code",
   "execution_count": 239,
   "metadata": {},
   "outputs": [
    {
     "data": {
      "text/plain": [
       "['author_average_rating',\n",
       " 'author_number_of_people_read',\n",
       " 'author_number_of_people_wants_to_read',\n",
       " 'author_date_of_birth',\n",
       " 'author_number_of_fans',\n",
       " 'author_number_of_books_written',\n",
       " 'author_number_of_awards',\n",
       " 'number_of_user_opinions',\n",
       " 'number_of_user_ratings',\n",
       " 'number_of_discussions',\n",
       " 'number_of_people_read',\n",
       " 'publication_date',\n",
       " 'number_of_pages',\n",
       " 'series',\n",
       " 'rating_1',\n",
       " 'rating_2',\n",
       " 'rating_3',\n",
       " 'rating_4',\n",
       " 'rating_5',\n",
       " 'rating_6',\n",
       " 'rating_7',\n",
       " 'rating_8',\n",
       " 'rating_9',\n",
       " 'rating_10',\n",
       " 'category',\n",
       " 'part_of_cycle',\n",
       " 'language',\n",
       " 'number_of_people_has',\n",
       " 'number_of_people_favorite',\n",
       " 'number_of_people_wants_to_read',\n",
       " 'number_of_people_wants_as_gift',\n",
       " 'number_of_people_currently_read',\n",
       " 'description',\n",
       " 'format']"
      ]
     },
     "execution_count": 239,
     "metadata": {},
     "output_type": "execute_result"
    }
   ],
   "source": [
    "renamed_cols"
   ]
  },
  {
   "cell_type": "code",
   "execution_count": 240,
   "metadata": {},
   "outputs": [],
   "source": [
    "# data_df = data_df.rename(columns=rename_dict)\n",
    "data_df = data_df.rename(columns=rename_dict)"
   ]
  },
  {
   "cell_type": "code",
   "execution_count": 241,
   "metadata": {},
   "outputs": [],
   "source": [
    "data_df[renamed_cols].to_csv('data/cleaned_data.csv')"
   ]
  },
  {
   "cell_type": "code",
   "execution_count": null,
   "metadata": {},
   "outputs": [],
   "source": []
  }
 ],
 "metadata": {
  "kernelspec": {
   "display_name": "lubimyczytac",
   "language": "python",
   "name": "python3"
  },
  "language_info": {
   "codemirror_mode": {
    "name": "ipython",
    "version": 3
   },
   "file_extension": ".py",
   "mimetype": "text/x-python",
   "name": "python",
   "nbconvert_exporter": "python",
   "pygments_lexer": "ipython3",
   "version": "3.13.1"
  }
 },
 "nbformat": 4,
 "nbformat_minor": 2
}
