{
 "cells": [
  {
   "cell_type": "code",
   "execution_count": 1,
   "metadata": {},
   "outputs": [],
   "source": [
    "from string import ascii_letters\n",
    "\n",
    "import pandas as pd\n",
    "import numpy as np\n",
    "\n",
    "from utils.paths import BOOKS_PATH, AUTHORS_PATH"
   ]
  },
  {
   "cell_type": "code",
   "execution_count": 2,
   "metadata": {},
   "outputs": [
    {
     "name": "stderr",
     "output_type": "stream",
     "text": [
      "/tmp/ipykernel_278242/587830805.py:1: DtypeWarning: Columns (76,77,78,79,80,81,82,83,84,85,86,87,88,89,90,91,92,93) have mixed types. Specify dtype option on import or set low_memory=False.\n",
      "  books_df = pd.read_csv(BOOKS_PATH)\n"
     ]
    }
   ],
   "source": [
    "books_df = pd.read_csv(BOOKS_PATH)\n",
    "authors_df = pd.read_csv(AUTHORS_PATH)"
   ]
  },
  {
   "cell_type": "code",
   "execution_count": 3,
   "metadata": {},
   "outputs": [],
   "source": [
    "data_df = books_df.join(authors_df.set_index('author_url'), on='author_href', how='inner')"
   ]
  },
  {
   "cell_type": "code",
   "execution_count": 4,
   "metadata": {},
   "outputs": [
    {
     "data": {
      "text/plain": [
       "array([1, 2, 3, 4, 5, 6, 7, 0, 8, 9])"
      ]
     },
     "execution_count": 4,
     "metadata": {},
     "output_type": "execute_result"
    }
   ],
   "source": [
    "# check if cycles always end with <cycle name> (<string> <number>)\n",
    "data_df['Cykl'].dropna().str.extract(r'(\\d)+').fillna(0).astype(int)[0].unique()"
   ]
  },
  {
   "cell_type": "code",
   "execution_count": 5,
   "metadata": {},
   "outputs": [],
   "source": [
    "data_df['part_of_cycle'] = data_df['Cykl'].str.extract(r'(\\d)+').fillna(0).astype(int)[0]"
   ]
  },
  {
   "cell_type": "code",
   "execution_count": 6,
   "metadata": {},
   "outputs": [],
   "source": [
    "# drop records without number of pages\n",
    "data_df = data_df.dropna(subset=['Liczba stron'])"
   ]
  },
  {
   "cell_type": "code",
   "execution_count": 7,
   "metadata": {},
   "outputs": [],
   "source": [
    "numeric_columns = data_df.select_dtypes(include='number').columns"
   ]
  },
  {
   "cell_type": "code",
   "execution_count": 8,
   "metadata": {},
   "outputs": [],
   "source": [
    "float_columns = 'author_average_rating'\n",
    "integer_columns = numeric_columns.drop(float_columns)"
   ]
  },
  {
   "cell_type": "code",
   "execution_count": 9,
   "metadata": {},
   "outputs": [],
   "source": [
    "# integer cols where there is nans\n",
    "data_df.loc[:, integer_columns] = data_df.loc[:, integer_columns].fillna(0).astype(int)"
   ]
  },
  {
   "cell_type": "markdown",
   "metadata": {},
   "source": [
    "# imputacja tytulow"
   ]
  },
  {
   "cell_type": "code",
   "execution_count": 10,
   "metadata": {},
   "outputs": [
    {
     "data": {
      "text/plain": [
       "Index(['author', 'author_href', 'description', 'number_of_user_opinions',\n",
       "       'number_of_user_ratings', 'number_of_discussions', 'Kategoria',\n",
       "       'Format', 'Cykl', 'Tytuł oryginału',\n",
       "       ...\n",
       "       'author_href27', 'author_name', 'author_average_rating',\n",
       "       'author_number_of_people_read', 'author_number_of_people_wants_to_read',\n",
       "       'author_date_of_birth', 'author_number_of_fans',\n",
       "       'author_number_of_books_written', 'author_number_of_awards',\n",
       "       'part_of_cycle'],\n",
       "      dtype='object', length=103)"
      ]
     },
     "execution_count": 10,
     "metadata": {},
     "output_type": "execute_result"
    }
   ],
   "source": [
    "data_df.columns"
   ]
  },
  {
   "cell_type": "code",
   "execution_count": 11,
   "metadata": {},
   "outputs": [],
   "source": [
    "missing_title = data_df['Tytuł oryginału'].isna()"
   ]
  },
  {
   "cell_type": "code",
   "execution_count": 12,
   "metadata": {},
   "outputs": [],
   "source": [
    "data_df.loc[missing_title, 'title'] = data_df.loc[missing_title, 'url'].str.split('/').str[-1].str.split('-').str.join(' ').str.title()"
   ]
  },
  {
   "cell_type": "code",
   "execution_count": 13,
   "metadata": {},
   "outputs": [
    {
     "data": {
      "text/plain": [
       "0        1\n",
       "1        2\n",
       "2        3\n",
       "3        4\n",
       "4        0\n",
       "        ..\n",
       "15493    0\n",
       "15494    0\n",
       "15495    1\n",
       "15496    0\n",
       "15497    2\n",
       "Name: part_of_cycle, Length: 15186, dtype: int64"
      ]
     },
     "execution_count": 13,
     "metadata": {},
     "output_type": "execute_result"
    }
   ],
   "source": [
    "data_df['part_of_cycle']"
   ]
  },
  {
   "cell_type": "markdown",
   "metadata": {},
   "source": [
    "# cleaning"
   ]
  },
  {
   "cell_type": "markdown",
   "metadata": {},
   "source": [
    "## author quantitative features:\n",
    "author_average_rating\n",
    "author_number_of_people_read\n",
    "author_number_of_people_wants_to_read\n",
    "author_date_of_birth ?\n",
    "author_number_of_fans\n",
    "author_number_of_books_written\n",
    "author_number_of_awards\n",
    "## book quantitative features\n",
    "description_length (engineered)\n",
    "number_of_user_opinions\n",
    "number_of_user_ratings\n",
    "number_of_discussions\n",
    "number_of_people_read\n",
    "Data wydania\n",
    "Liczba stron\n",
    "description\n",
    "## book qualitative features\n",
    "Kategoria\n",
    "part_of_cycle (engineered)\n",
    "Język\n",
    "number_of_people_has\n",
    "number_of_people_favorite\n",
    "number_of_people_wants_to_read\n",
    "number_of_people_wants_as_gift\n",
    "number_of_people_currently_read"
   ]
  },
  {
   "cell_type": "code",
   "execution_count": 14,
   "metadata": {},
   "outputs": [],
   "source": [
    "author_quant_features = [\n",
    "    \"author_average_rating\",\n",
    "    \"author_number_of_people_read\",\n",
    "    \"author_number_of_people_wants_to_read\",\n",
    "    \"author_date_of_birth\",  # Możliwe, że wymaga dodatkowego przetworzenia\n",
    "    \"author_number_of_fans\",\n",
    "    \"author_number_of_books_written\",\n",
    "    \"author_number_of_awards\"\n",
    "]\n",
    "\n",
    "# Cechy ilościowe związane z książką\n",
    "book_quant_features = [\n",
    "    \"number_of_user_opinions\",\n",
    "    \"number_of_user_ratings\",\n",
    "    \"number_of_discussions\",\n",
    "    \"number_of_people_read\",\n",
    "    \"Data wydania\",  # to be transformed\n",
    "    \"Liczba stron\",\n",
    "    \"Cykl\",\n",
    "] + [f'rating_{i}' for i in range(1, 11)]\n",
    "\n",
    "# Cechy jakościowe związane z książką\n",
    "book_qual_features = [\n",
    "    \"Kategoria\",\n",
    "    \"part_of_cycle\",  # engineered\n",
    "    \"Język\",\n",
    "    \"number_of_people_has\",\n",
    "    \"number_of_people_favorite\",\n",
    "    \"number_of_people_wants_to_read\",\n",
    "    \"number_of_people_wants_as_gift\",\n",
    "    \"number_of_people_currently_read\",\n",
    "    \"description\",\n",
    "    \"Format\"\n",
    "]"
   ]
  },
  {
   "cell_type": "code",
   "execution_count": 15,
   "metadata": {},
   "outputs": [],
   "source": [
    "all_features = author_quant_features + book_quant_features + book_qual_features"
   ]
  },
  {
   "cell_type": "code",
   "execution_count": 16,
   "metadata": {},
   "outputs": [
    {
     "data": {
      "text/plain": [
       "Index(['author_average_rating', 'author_number_of_people_read',\n",
       "       'author_number_of_people_wants_to_read', 'author_date_of_birth',\n",
       "       'author_number_of_fans', 'author_number_of_books_written',\n",
       "       'author_number_of_awards', 'number_of_user_opinions',\n",
       "       'number_of_user_ratings', 'number_of_discussions',\n",
       "       'number_of_people_read', 'Data wydania', 'Liczba stron', 'Cykl',\n",
       "       'rating_1', 'rating_2', 'rating_3', 'rating_4', 'rating_5', 'rating_6',\n",
       "       'rating_7', 'rating_8', 'rating_9', 'rating_10', 'Kategoria',\n",
       "       'part_of_cycle', 'Język', 'number_of_people_has',\n",
       "       'number_of_people_favorite', 'number_of_people_wants_to_read',\n",
       "       'number_of_people_wants_as_gift', 'number_of_people_currently_read',\n",
       "       'description', 'Format'],\n",
       "      dtype='object')"
      ]
     },
     "execution_count": 16,
     "metadata": {},
     "output_type": "execute_result"
    }
   ],
   "source": [
    "data_df[all_features].columns"
   ]
  },
  {
   "cell_type": "code",
   "execution_count": 17,
   "metadata": {},
   "outputs": [],
   "source": [
    "data_df.loc[:, 'author_date_of_birth'] = pd.to_datetime(data_df['author_date_of_birth'], format='mixed', errors='coerce')"
   ]
  },
  {
   "cell_type": "code",
   "execution_count": 18,
   "metadata": {},
   "outputs": [
    {
     "data": {
      "text/plain": [
       "0        1965-07-31 00:00:00\n",
       "1        1965-07-31 00:00:00\n",
       "2        1965-07-31 00:00:00\n",
       "3        1965-07-31 00:00:00\n",
       "4        1900-06-29 00:00:00\n",
       "                ...         \n",
       "15493                    NaT\n",
       "15494    1905-06-21 00:00:00\n",
       "15495    1952-10-24 00:00:00\n",
       "15496    1963-01-01 00:00:00\n",
       "15497                    NaT\n",
       "Name: author_date_of_birth, Length: 15186, dtype: object"
      ]
     },
     "execution_count": 18,
     "metadata": {},
     "output_type": "execute_result"
    }
   ],
   "source": [
    "data_df.loc[:, 'author_date_of_birth']"
   ]
  },
  {
   "cell_type": "code",
   "execution_count": 19,
   "metadata": {},
   "outputs": [],
   "source": [
    "rename_dict = {\n",
    "    \"Data wydania\": \"publication_date\",\n",
    "    \"Liczba stron\": \"number_of_pages\",\n",
    "    \"Cykl\": \"series\",\n",
    "    \"Kategoria\": \"category\",\n",
    "    \"Język\": \"language\",\n",
    "    \"Format\": \"format\"\n",
    "}"
   ]
  },
  {
   "cell_type": "code",
   "execution_count": 20,
   "metadata": {},
   "outputs": [],
   "source": [
    "renamed_cols = [rename_dict.get(col, col) for col in data_df[all_features].columns]"
   ]
  },
  {
   "cell_type": "code",
   "execution_count": 21,
   "metadata": {},
   "outputs": [
    {
     "data": {
      "text/plain": [
       "['author_average_rating',\n",
       " 'author_number_of_people_read',\n",
       " 'author_number_of_people_wants_to_read',\n",
       " 'author_date_of_birth',\n",
       " 'author_number_of_fans',\n",
       " 'author_number_of_books_written',\n",
       " 'author_number_of_awards',\n",
       " 'number_of_user_opinions',\n",
       " 'number_of_user_ratings',\n",
       " 'number_of_discussions',\n",
       " 'number_of_people_read',\n",
       " 'publication_date',\n",
       " 'number_of_pages',\n",
       " 'series',\n",
       " 'rating_1',\n",
       " 'rating_2',\n",
       " 'rating_3',\n",
       " 'rating_4',\n",
       " 'rating_5',\n",
       " 'rating_6',\n",
       " 'rating_7',\n",
       " 'rating_8',\n",
       " 'rating_9',\n",
       " 'rating_10',\n",
       " 'category',\n",
       " 'part_of_cycle',\n",
       " 'language',\n",
       " 'number_of_people_has',\n",
       " 'number_of_people_favorite',\n",
       " 'number_of_people_wants_to_read',\n",
       " 'number_of_people_wants_as_gift',\n",
       " 'number_of_people_currently_read',\n",
       " 'description',\n",
       " 'format']"
      ]
     },
     "execution_count": 21,
     "metadata": {},
     "output_type": "execute_result"
    }
   ],
   "source": [
    "renamed_cols"
   ]
  },
  {
   "cell_type": "code",
   "execution_count": 22,
   "metadata": {},
   "outputs": [],
   "source": [
    "# data_df = data_df.rename(columns=rename_dict)\n",
    "data_df = data_df.rename(columns=rename_dict)"
   ]
  },
  {
   "cell_type": "code",
   "execution_count": 23,
   "metadata": {},
   "outputs": [],
   "source": [
    "data_df['title'] = data_df['url'].str.split('/').str[-1].str.split('-').str.join(' ').str.title()"
   ]
  },
  {
   "cell_type": "code",
   "execution_count": 24,
   "metadata": {},
   "outputs": [
    {
     "data": {
      "text/plain": [
       "Index(['author', 'author_href', 'description', 'number_of_user_opinions',\n",
       "       'number_of_user_ratings', 'number_of_discussions', 'category', 'format',\n",
       "       'series', 'Tytuł oryginału',\n",
       "       ...\n",
       "       'author_name', 'author_average_rating', 'author_number_of_people_read',\n",
       "       'author_number_of_people_wants_to_read', 'author_date_of_birth',\n",
       "       'author_number_of_fans', 'author_number_of_books_written',\n",
       "       'author_number_of_awards', 'part_of_cycle', 'title'],\n",
       "      dtype='object', length=104)"
      ]
     },
     "execution_count": 24,
     "metadata": {},
     "output_type": "execute_result"
    }
   ],
   "source": [
    "data_df.columns"
   ]
  },
  {
   "cell_type": "code",
   "execution_count": 25,
   "metadata": {},
   "outputs": [],
   "source": [
    "data_df['description_length'] = data_df['description'].str.len()\n",
    "data_df['number_of_pages'] = data_df['number_of_pages'].astype(int)\n",
    "\n",
    "\n",
    "rating_features = [f'rating_{i}' for i in range(1, 11)]\n",
    "scaled_features = [f'scaled_{element}' for element in rating_features]\n",
    "normalized_features = [f'normalized_{element}' for element in rating_features]\n",
    "\n",
    "# to be predicted\n",
    "threshold = 2000\n",
    "data_df['bestseller'] = (data_df['number_of_people_has'] >= threshold).astype(int)\n",
    "\n",
    "\n",
    "\n",
    "# Assuming data and rating_features are already defined\n",
    "total_ratings = data_df[rating_features].sum(axis=1)\n",
    "rating_weights = np.arange(1, 11)\n",
    "\n",
    "# mean rating\n",
    "data_df['mean_rating'] = (data_df[rating_features] * rating_weights).sum(axis=1) / total_ratings\n",
    "\n",
    "# standard deviation\n",
    "mean_rating_array = data_df['mean_rating'].to_numpy()\n",
    "data_df['std_rating'] = np.sqrt(((data_df[rating_features] * (rating_weights - mean_rating_array[:, None]) ** 2).sum(axis=1)) / total_ratings)\n",
    "\n",
    "# skewness\n",
    "data_df['skewness'] = ((data_df[rating_features] * (rating_weights - mean_rating_array[:, None]) ** 3).sum(axis=1)) / (total_ratings * data_df['std_rating'] ** 3)\n",
    "\n",
    "# kurtosis\n",
    "data_df['kurtosis'] = ((data_df[rating_features] * (rating_weights - mean_rating_array[:, None]) ** 4).sum(axis=1)) / (total_ratings * data_df['std_rating'] ** 4) - 3"
   ]
  },
  {
   "cell_type": "code",
   "execution_count": 42,
   "metadata": {},
   "outputs": [],
   "source": [
    "data_df = data_df.loc[~data_df[['mean_rating', 'std_rating', 'skewness', 'kurtosis']].isna().any(axis=1)]"
   ]
  },
  {
   "cell_type": "code",
   "execution_count": 44,
   "metadata": {},
   "outputs": [],
   "source": [
    "columns_to_save = renamed_cols + ['title', 'description_length', 'bestseller', 'mean_rating', 'std_rating', 'skewness', 'kurtosis']"
   ]
  },
  {
   "cell_type": "code",
   "execution_count": 45,
   "metadata": {},
   "outputs": [],
   "source": [
    "data_df[columns_to_save].to_csv('data/cleaned_data.csv')"
   ]
  }
 ],
 "metadata": {
  "kernelspec": {
   "display_name": "lubimyczytac",
   "language": "python",
   "name": "python3"
  },
  "language_info": {
   "codemirror_mode": {
    "name": "ipython",
    "version": 3
   },
   "file_extension": ".py",
   "mimetype": "text/x-python",
   "name": "python",
   "nbconvert_exporter": "python",
   "pygments_lexer": "ipython3",
   "version": "3.13.1"
  }
 },
 "nbformat": 4,
 "nbformat_minor": 2
}
